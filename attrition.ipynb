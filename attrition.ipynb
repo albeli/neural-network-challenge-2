{
  "cells": [
    {
      "cell_type": "markdown",
      "metadata": {
        "id": "alIIEHibGc3M"
      },
      "source": [
        "## Part 1: Preprocessing"
      ]
    },
    {
      "cell_type": "code",
      "execution_count": 1,
      "metadata": {
        "colab": {
          "base_uri": "https://localhost:8080/",
          "height": 325
        },
        "id": "6eDUJ4NtGc3P",
        "outputId": "2480098c-135c-4cbf-9552-018494ee8ff5"
      },
      "outputs": [
        {
          "data": {
            "text/html": [
              "<div>\n",
              "<style scoped>\n",
              "    .dataframe tbody tr th:only-of-type {\n",
              "        vertical-align: middle;\n",
              "    }\n",
              "\n",
              "    .dataframe tbody tr th {\n",
              "        vertical-align: top;\n",
              "    }\n",
              "\n",
              "    .dataframe thead th {\n",
              "        text-align: right;\n",
              "    }\n",
              "</style>\n",
              "<table border=\"1\" class=\"dataframe\">\n",
              "  <thead>\n",
              "    <tr style=\"text-align: right;\">\n",
              "      <th></th>\n",
              "      <th>Age</th>\n",
              "      <th>Attrition</th>\n",
              "      <th>BusinessTravel</th>\n",
              "      <th>Department</th>\n",
              "      <th>DistanceFromHome</th>\n",
              "      <th>Education</th>\n",
              "      <th>EducationField</th>\n",
              "      <th>EnvironmentSatisfaction</th>\n",
              "      <th>HourlyRate</th>\n",
              "      <th>JobInvolvement</th>\n",
              "      <th>...</th>\n",
              "      <th>PerformanceRating</th>\n",
              "      <th>RelationshipSatisfaction</th>\n",
              "      <th>StockOptionLevel</th>\n",
              "      <th>TotalWorkingYears</th>\n",
              "      <th>TrainingTimesLastYear</th>\n",
              "      <th>WorkLifeBalance</th>\n",
              "      <th>YearsAtCompany</th>\n",
              "      <th>YearsInCurrentRole</th>\n",
              "      <th>YearsSinceLastPromotion</th>\n",
              "      <th>YearsWithCurrManager</th>\n",
              "    </tr>\n",
              "  </thead>\n",
              "  <tbody>\n",
              "    <tr>\n",
              "      <th>0</th>\n",
              "      <td>41</td>\n",
              "      <td>Yes</td>\n",
              "      <td>Travel_Rarely</td>\n",
              "      <td>Sales</td>\n",
              "      <td>1</td>\n",
              "      <td>2</td>\n",
              "      <td>Life Sciences</td>\n",
              "      <td>2</td>\n",
              "      <td>94</td>\n",
              "      <td>3</td>\n",
              "      <td>...</td>\n",
              "      <td>3</td>\n",
              "      <td>1</td>\n",
              "      <td>0</td>\n",
              "      <td>8</td>\n",
              "      <td>0</td>\n",
              "      <td>1</td>\n",
              "      <td>6</td>\n",
              "      <td>4</td>\n",
              "      <td>0</td>\n",
              "      <td>5</td>\n",
              "    </tr>\n",
              "    <tr>\n",
              "      <th>1</th>\n",
              "      <td>49</td>\n",
              "      <td>No</td>\n",
              "      <td>Travel_Frequently</td>\n",
              "      <td>Research &amp; Development</td>\n",
              "      <td>8</td>\n",
              "      <td>1</td>\n",
              "      <td>Life Sciences</td>\n",
              "      <td>3</td>\n",
              "      <td>61</td>\n",
              "      <td>2</td>\n",
              "      <td>...</td>\n",
              "      <td>4</td>\n",
              "      <td>4</td>\n",
              "      <td>1</td>\n",
              "      <td>10</td>\n",
              "      <td>3</td>\n",
              "      <td>3</td>\n",
              "      <td>10</td>\n",
              "      <td>7</td>\n",
              "      <td>1</td>\n",
              "      <td>7</td>\n",
              "    </tr>\n",
              "    <tr>\n",
              "      <th>2</th>\n",
              "      <td>37</td>\n",
              "      <td>Yes</td>\n",
              "      <td>Travel_Rarely</td>\n",
              "      <td>Research &amp; Development</td>\n",
              "      <td>2</td>\n",
              "      <td>2</td>\n",
              "      <td>Other</td>\n",
              "      <td>4</td>\n",
              "      <td>92</td>\n",
              "      <td>2</td>\n",
              "      <td>...</td>\n",
              "      <td>3</td>\n",
              "      <td>2</td>\n",
              "      <td>0</td>\n",
              "      <td>7</td>\n",
              "      <td>3</td>\n",
              "      <td>3</td>\n",
              "      <td>0</td>\n",
              "      <td>0</td>\n",
              "      <td>0</td>\n",
              "      <td>0</td>\n",
              "    </tr>\n",
              "    <tr>\n",
              "      <th>3</th>\n",
              "      <td>33</td>\n",
              "      <td>No</td>\n",
              "      <td>Travel_Frequently</td>\n",
              "      <td>Research &amp; Development</td>\n",
              "      <td>3</td>\n",
              "      <td>4</td>\n",
              "      <td>Life Sciences</td>\n",
              "      <td>4</td>\n",
              "      <td>56</td>\n",
              "      <td>3</td>\n",
              "      <td>...</td>\n",
              "      <td>3</td>\n",
              "      <td>3</td>\n",
              "      <td>0</td>\n",
              "      <td>8</td>\n",
              "      <td>3</td>\n",
              "      <td>3</td>\n",
              "      <td>8</td>\n",
              "      <td>7</td>\n",
              "      <td>3</td>\n",
              "      <td>0</td>\n",
              "    </tr>\n",
              "    <tr>\n",
              "      <th>4</th>\n",
              "      <td>27</td>\n",
              "      <td>No</td>\n",
              "      <td>Travel_Rarely</td>\n",
              "      <td>Research &amp; Development</td>\n",
              "      <td>2</td>\n",
              "      <td>1</td>\n",
              "      <td>Medical</td>\n",
              "      <td>1</td>\n",
              "      <td>40</td>\n",
              "      <td>3</td>\n",
              "      <td>...</td>\n",
              "      <td>3</td>\n",
              "      <td>4</td>\n",
              "      <td>1</td>\n",
              "      <td>6</td>\n",
              "      <td>3</td>\n",
              "      <td>3</td>\n",
              "      <td>2</td>\n",
              "      <td>2</td>\n",
              "      <td>2</td>\n",
              "      <td>2</td>\n",
              "    </tr>\n",
              "  </tbody>\n",
              "</table>\n",
              "<p>5 rows × 27 columns</p>\n",
              "</div>"
            ],
            "text/plain": [
              "   Age Attrition     BusinessTravel              Department  DistanceFromHome  \\\n",
              "0   41       Yes      Travel_Rarely                   Sales                 1   \n",
              "1   49        No  Travel_Frequently  Research & Development                 8   \n",
              "2   37       Yes      Travel_Rarely  Research & Development                 2   \n",
              "3   33        No  Travel_Frequently  Research & Development                 3   \n",
              "4   27        No      Travel_Rarely  Research & Development                 2   \n",
              "\n",
              "   Education EducationField  EnvironmentSatisfaction  HourlyRate  \\\n",
              "0          2  Life Sciences                        2          94   \n",
              "1          1  Life Sciences                        3          61   \n",
              "2          2          Other                        4          92   \n",
              "3          4  Life Sciences                        4          56   \n",
              "4          1        Medical                        1          40   \n",
              "\n",
              "   JobInvolvement  ...  PerformanceRating RelationshipSatisfaction  \\\n",
              "0               3  ...                  3                        1   \n",
              "1               2  ...                  4                        4   \n",
              "2               2  ...                  3                        2   \n",
              "3               3  ...                  3                        3   \n",
              "4               3  ...                  3                        4   \n",
              "\n",
              "   StockOptionLevel TotalWorkingYears  TrainingTimesLastYear WorkLifeBalance  \\\n",
              "0                 0                 8                      0               1   \n",
              "1                 1                10                      3               3   \n",
              "2                 0                 7                      3               3   \n",
              "3                 0                 8                      3               3   \n",
              "4                 1                 6                      3               3   \n",
              "\n",
              "   YearsAtCompany  YearsInCurrentRole  YearsSinceLastPromotion  \\\n",
              "0               6                   4                        0   \n",
              "1              10                   7                        1   \n",
              "2               0                   0                        0   \n",
              "3               8                   7                        3   \n",
              "4               2                   2                        2   \n",
              "\n",
              "   YearsWithCurrManager  \n",
              "0                     5  \n",
              "1                     7  \n",
              "2                     0  \n",
              "3                     0  \n",
              "4                     2  \n",
              "\n",
              "[5 rows x 27 columns]"
            ]
          },
          "execution_count": 1,
          "metadata": {},
          "output_type": "execute_result"
        }
      ],
      "source": [
        "# Import our dependencies\n",
        "from sklearn.model_selection import train_test_split\n",
        "from sklearn.preprocessing import StandardScaler, OneHotEncoder\n",
        "import pandas as pd\n",
        "import numpy as np\n",
        "import tensorflow as tf\n",
        "from tensorflow.keras.models import Model\n",
        "from tensorflow.keras.layers import Input, Dense\n",
        "\n",
        "# Import and read the attrition data\n",
        "attrition_df = pd.read_csv('https://static.bc-edx.com/ai/ail-v-1-0/m19/lms/datasets/attrition.csv')\n",
        "attrition_df.head()\n"
      ]
    },
    {
      "cell_type": "code",
      "execution_count": 2,
      "metadata": {},
      "outputs": [
        {
          "name": "stdout",
          "output_type": "stream",
          "text": [
            "<class 'pandas.core.frame.DataFrame'>\n",
            "RangeIndex: 1470 entries, 0 to 1469\n",
            "Data columns (total 27 columns):\n",
            " #   Column                    Non-Null Count  Dtype \n",
            "---  ------                    --------------  ----- \n",
            " 0   Age                       1470 non-null   int64 \n",
            " 1   Attrition                 1470 non-null   object\n",
            " 2   BusinessTravel            1470 non-null   object\n",
            " 3   Department                1470 non-null   object\n",
            " 4   DistanceFromHome          1470 non-null   int64 \n",
            " 5   Education                 1470 non-null   int64 \n",
            " 6   EducationField            1470 non-null   object\n",
            " 7   EnvironmentSatisfaction   1470 non-null   int64 \n",
            " 8   HourlyRate                1470 non-null   int64 \n",
            " 9   JobInvolvement            1470 non-null   int64 \n",
            " 10  JobLevel                  1470 non-null   int64 \n",
            " 11  JobRole                   1470 non-null   object\n",
            " 12  JobSatisfaction           1470 non-null   int64 \n",
            " 13  MaritalStatus             1470 non-null   object\n",
            " 14  NumCompaniesWorked        1470 non-null   int64 \n",
            " 15  OverTime                  1470 non-null   object\n",
            " 16  PercentSalaryHike         1470 non-null   int64 \n",
            " 17  PerformanceRating         1470 non-null   int64 \n",
            " 18  RelationshipSatisfaction  1470 non-null   int64 \n",
            " 19  StockOptionLevel          1470 non-null   int64 \n",
            " 20  TotalWorkingYears         1470 non-null   int64 \n",
            " 21  TrainingTimesLastYear     1470 non-null   int64 \n",
            " 22  WorkLifeBalance           1470 non-null   int64 \n",
            " 23  YearsAtCompany            1470 non-null   int64 \n",
            " 24  YearsInCurrentRole        1470 non-null   int64 \n",
            " 25  YearsSinceLastPromotion   1470 non-null   int64 \n",
            " 26  YearsWithCurrManager      1470 non-null   int64 \n",
            "dtypes: int64(20), object(7)\n",
            "memory usage: 310.2+ KB\n"
          ]
        }
      ],
      "source": [
        "attrition_df.info()"
      ]
    },
    {
      "cell_type": "code",
      "execution_count": 3,
      "metadata": {
        "colab": {
          "base_uri": "https://localhost:8080/"
        },
        "id": "g22aQSY4Gc3Q",
        "outputId": "1f5c13c1-b981-4e40-a7ed-dd3fe6f1b81e"
      },
      "outputs": [
        {
          "data": {
            "text/plain": [
              "Age                         43\n",
              "Attrition                    2\n",
              "BusinessTravel               3\n",
              "Department                   3\n",
              "DistanceFromHome            29\n",
              "Education                    5\n",
              "EducationField               6\n",
              "EnvironmentSatisfaction      4\n",
              "HourlyRate                  71\n",
              "JobInvolvement               4\n",
              "JobLevel                     5\n",
              "JobRole                      9\n",
              "JobSatisfaction              4\n",
              "MaritalStatus                3\n",
              "NumCompaniesWorked          10\n",
              "OverTime                     2\n",
              "PercentSalaryHike           15\n",
              "PerformanceRating            2\n",
              "RelationshipSatisfaction     4\n",
              "StockOptionLevel             4\n",
              "TotalWorkingYears           40\n",
              "TrainingTimesLastYear        7\n",
              "WorkLifeBalance              4\n",
              "YearsAtCompany              37\n",
              "YearsInCurrentRole          19\n",
              "YearsSinceLastPromotion     16\n",
              "YearsWithCurrManager        18\n",
              "dtype: int64"
            ]
          },
          "execution_count": 3,
          "metadata": {},
          "output_type": "execute_result"
        }
      ],
      "source": [
        "# Determine the number of unique values in each column.\n",
        "attrition_df.nunique()"
      ]
    },
    {
      "cell_type": "code",
      "execution_count": 4,
      "metadata": {
        "id": "50vMgBEnJbfM"
      },
      "outputs": [],
      "source": [
        "# Create y_df with the Attrition and Department columns\n",
        "y_df = attrition_df[['Attrition', 'Department']]\n",
        "\n"
      ]
    },
    {
      "cell_type": "code",
      "execution_count": 5,
      "metadata": {
        "colab": {
          "base_uri": "https://localhost:8080/"
        },
        "id": "Virka0zLGc3R",
        "outputId": "dd5aee3a-9458-4ba6-e857-1b234de40915"
      },
      "outputs": [
        {
          "data": {
            "text/plain": [
              "Age                         int64\n",
              "Education                   int64\n",
              "JobSatisfaction             int64\n",
              "DistanceFromHome            int64\n",
              "OverTime                   object\n",
              "StockOptionLevel            int64\n",
              "WorkLifeBalance             int64\n",
              "NumCompaniesWorked          int64\n",
              "YearsAtCompany              int64\n",
              "YearsSinceLastPromotion     int64\n",
              "dtype: object"
            ]
          },
          "execution_count": 5,
          "metadata": {},
          "output_type": "execute_result"
        }
      ],
      "source": [
        "# Create a list of at least 10 column names to use as X data\n",
        "\n",
        "features = ['Age', 'Education', 'JobSatisfaction', 'DistanceFromHome', \n",
        "            'OverTime', 'StockOptionLevel', 'WorkLifeBalance', 'NumCompaniesWorked', 'YearsAtCompany','YearsSinceLastPromotion']\n",
        "\n",
        "\n",
        "# Create X_df using your selected columns\n",
        "X_df = attrition_df[features]\n",
        "\n",
        "\n",
        "# Show the data types for X_df\n",
        "X_df.dtypes\n",
        "\n"
      ]
    },
    {
      "cell_type": "code",
      "execution_count": 6,
      "metadata": {},
      "outputs": [
        {
          "name": "stderr",
          "output_type": "stream",
          "text": [
            "C:\\Users\\abeli\\AppData\\Local\\Temp\\ipykernel_8864\\1576275965.py:3: SettingWithCopyWarning: \n",
            "A value is trying to be set on a copy of a slice from a DataFrame.\n",
            "Try using .loc[row_indexer,col_indexer] = value instead\n",
            "\n",
            "See the caveats in the documentation: https://pandas.pydata.org/pandas-docs/stable/user_guide/indexing.html#returning-a-view-versus-a-copy\n",
            "  X_df['OverTime'] = X_df['OverTime'].apply(lambda x: 1 if x == 'Yes' else 0)\n"
          ]
        }
      ],
      "source": [
        "# Convert your X data to numeric data types however you see fit\n",
        "\n",
        "X_df['OverTime'] = X_df['OverTime'].apply(lambda x: 1 if x == 'Yes' else 0)\n"
      ]
    },
    {
      "cell_type": "code",
      "execution_count": 7,
      "metadata": {
        "id": "KaJfdOGUMHMR"
      },
      "outputs": [],
      "source": [
        "# Split the data into training and testing sets\n",
        "\n",
        "X_train, X_test, y_train, y_test = train_test_split(X_df, y_df, test_size=0.25, random_state=78)\n"
      ]
    },
    {
      "cell_type": "code",
      "execution_count": 8,
      "metadata": {
        "id": "EWA-aIA5Gc3T"
      },
      "outputs": [],
      "source": [
        "# Create a StandardScaler\n",
        "scaler = StandardScaler()\n",
        "\n",
        "# Fit the StandardScaler to the training data\n",
        "X_train_scaled = scaler.fit_transform(X_train)\n",
        "\n",
        "# Scale the training and testing data\n",
        "X_test_scaled = scaler.transform(X_test)\n"
      ]
    },
    {
      "cell_type": "code",
      "execution_count": 9,
      "metadata": {
        "colab": {
          "base_uri": "https://localhost:8080/"
        },
        "id": "-z0Mky8vQSz4",
        "outputId": "debefc85-c20b-48f5-f4d9-91eadd65d36a"
      },
      "outputs": [],
      "source": [
        "# Create a OneHotEncoder for the Department column\n",
        "encoder = OneHotEncoder(sparse_output=False)\n",
        "\n",
        "# Fit the encoder to the training data\n",
        "encoder.fit(y_train[['Department']])\n",
        "\n",
        "# Create two new variables by applying the encoder\n",
        "# to the training and testing data\n",
        "department_train_encoded = encoder.transform(y_train[['Department']])\n",
        "department_test_encoded = encoder.transform(y_test[['Department']])"
      ]
    },
    {
      "cell_type": "code",
      "execution_count": 10,
      "metadata": {
        "colab": {
          "base_uri": "https://localhost:8080/"
        },
        "id": "-G4DSpvFRrk4",
        "outputId": "9842e948-8a55-4b80-8fac-f96714e85589"
      },
      "outputs": [],
      "source": [
        "# Create a OneHotEncoder for the Attrition column\n",
        "attrition_encoder = OneHotEncoder(sparse_output=False)\n",
        "\n",
        "# Fit the encoder to the training data\n",
        "attrition_encoder.fit(y_train[['Attrition']])\n",
        "\n",
        "# Transform the 'Attrition' column in training and testing data\n",
        "attrition_train_encoded = attrition_encoder.transform(y_train[['Attrition']])\n",
        "attrition_test_encoded = attrition_encoder.transform(y_test[['Attrition']])"
      ]
    },
    {
      "cell_type": "markdown",
      "metadata": {
        "id": "ykNmu_WWGc3T"
      },
      "source": [
        "## Create, Compile, and Train the Model"
      ]
    },
    {
      "cell_type": "code",
      "execution_count": 11,
      "metadata": {
        "id": "WUptZqmSGc3T"
      },
      "outputs": [],
      "source": [
        "# Find the number of columns in the X training data\n",
        "num_features = X_train_scaled.shape[1]\n",
        "\n",
        "# Create the input layer\n",
        "input_layer = tf.keras.layers.Input(shape=(num_features,))\n",
        "\n",
        "# Create at least two shared layers\n",
        "shared_layer1 = tf.keras.layers.Dense(128, activation='relu')(input_layer)\n",
        "shared_layer2 = tf.keras.layers.Dense(64, activation='relu')(shared_layer1)\n"
      ]
    },
    {
      "cell_type": "code",
      "execution_count": 12,
      "metadata": {
        "id": "JukjTm2yTEqd"
      },
      "outputs": [],
      "source": [
        "# Create a branch for Department\n",
        "# with a hidden layer and an output layer\n",
        "num_departments = department_train_encoded.shape[1]\n",
        "\n",
        "# Create the hidden layer\n",
        "department_hidden = tf.keras.layers.Dense(32, activation='relu')(shared_layer2)\n",
        "\n",
        "# Create the output layer\n",
        "department_output = tf.keras.layers.Dense(num_departments, activation='softmax', name='department_output')(department_hidden)\n"
      ]
    },
    {
      "cell_type": "code",
      "execution_count": 13,
      "metadata": {
        "id": "9OqhUiOJUBkR"
      },
      "outputs": [],
      "source": [
        "# Create a branch for Attrition\n",
        "# with a hidden layer and an output layer\n",
        "num_attrition_categories = attrition_train_encoded.shape[1]\n",
        "# Create the hidden layer\n",
        "attrition_hidden = tf.keras.layers.Dense(32, activation='relu')(shared_layer2)\n",
        "\n",
        "# Create the output layer\n",
        "attrition_output = tf.keras.layers.Dense(num_attrition_categories, activation='softmax', name='attrition_output')(attrition_hidden)\n"
      ]
    },
    {
      "cell_type": "code",
      "execution_count": 14,
      "metadata": {
        "colab": {
          "base_uri": "https://localhost:8080/"
        },
        "id": "twmuejdxGc3T",
        "outputId": "25096308-b68b-42e4-e4ea-ae82e97c435a"
      },
      "outputs": [
        {
          "name": "stdout",
          "output_type": "stream",
          "text": [
            "Model: \"model\"\n",
            "__________________________________________________________________________________________________\n",
            " Layer (type)                   Output Shape         Param #     Connected to                     \n",
            "==================================================================================================\n",
            " input_1 (InputLayer)           [(None, 10)]         0           []                               \n",
            "                                                                                                  \n",
            " dense (Dense)                  (None, 128)          1408        ['input_1[0][0]']                \n",
            "                                                                                                  \n",
            " dense_1 (Dense)                (None, 64)           8256        ['dense[0][0]']                  \n",
            "                                                                                                  \n",
            " dense_3 (Dense)                (None, 32)           2080        ['dense_1[0][0]']                \n",
            "                                                                                                  \n",
            " dense_2 (Dense)                (None, 32)           2080        ['dense_1[0][0]']                \n",
            "                                                                                                  \n",
            " attrition_output (Dense)       (None, 2)            66          ['dense_3[0][0]']                \n",
            "                                                                                                  \n",
            " department_output (Dense)      (None, 3)            99          ['dense_2[0][0]']                \n",
            "                                                                                                  \n",
            "==================================================================================================\n",
            "Total params: 13,989\n",
            "Trainable params: 13,989\n",
            "Non-trainable params: 0\n",
            "__________________________________________________________________________________________________\n"
          ]
        }
      ],
      "source": [
        "# Create the model\n",
        "model = Model(inputs=input_layer, outputs=[attrition_output, department_output])\n",
        "\n",
        "# Compiling the model\n",
        "model.compile(\n",
        "    optimizer='adam',\n",
        "    loss={\n",
        "        'attrition_output': 'categorical_crossentropy',  # Use categorical_crossentropy because attrition is one-hot encoded\n",
        "        'department_output': 'categorical_crossentropy'  # Use categorical_crossentropy for one-hot encoded department labels\n",
        "    },\n",
        "    metrics={\n",
        "        'attrition_output': ['accuracy'],\n",
        "        'department_output': ['accuracy']\n",
        "    }\n",
        ")\n",
        "\n",
        "# Summarize the model\n",
        "model.summary()"
      ]
    },
    {
      "cell_type": "code",
      "execution_count": 15,
      "metadata": {
        "colab": {
          "base_uri": "https://localhost:8080/"
        },
        "id": "c8oGy0dpGc3U",
        "outputId": "cc667d43-28cf-42d4-d719-c2bc02888d30"
      },
      "outputs": [
        {
          "name": "stdout",
          "output_type": "stream",
          "text": [
            "Epoch 1/50\n"
          ]
        },
        {
          "name": "stdout",
          "output_type": "stream",
          "text": [
            "35/35 [==============================] - 2s 10ms/step - loss: 1.4160 - attrition_output_loss: 0.4956 - department_output_loss: 0.9204 - attrition_output_accuracy: 0.8276 - department_output_accuracy: 0.6025 - val_loss: 1.2099 - val_attrition_output_loss: 0.3570 - val_department_output_loss: 0.8529 - val_attrition_output_accuracy: 0.8723 - val_department_output_accuracy: 0.6168\n",
            "Epoch 2/50\n",
            "35/35 [==============================] - 0s 2ms/step - loss: 1.1887 - attrition_output_loss: 0.4202 - department_output_loss: 0.7684 - attrition_output_accuracy: 0.8303 - department_output_accuracy: 0.6652 - val_loss: 1.2012 - val_attrition_output_loss: 0.3552 - val_department_output_loss: 0.8459 - val_attrition_output_accuracy: 0.8777 - val_department_output_accuracy: 0.6141\n",
            "Epoch 3/50\n",
            "35/35 [==============================] - 0s 2ms/step - loss: 1.1595 - attrition_output_loss: 0.4037 - department_output_loss: 0.7558 - attrition_output_accuracy: 0.8403 - department_output_accuracy: 0.6661 - val_loss: 1.1777 - val_attrition_output_loss: 0.3284 - val_department_output_loss: 0.8494 - val_attrition_output_accuracy: 0.8777 - val_department_output_accuracy: 0.6168\n",
            "Epoch 4/50\n",
            "35/35 [==============================] - 0s 2ms/step - loss: 1.1284 - attrition_output_loss: 0.3812 - department_output_loss: 0.7472 - attrition_output_accuracy: 0.8485 - department_output_accuracy: 0.6633 - val_loss: 1.1709 - val_attrition_output_loss: 0.3219 - val_department_output_loss: 0.8490 - val_attrition_output_accuracy: 0.8859 - val_department_output_accuracy: 0.5951\n",
            "Epoch 5/50\n",
            "35/35 [==============================] - 0s 2ms/step - loss: 1.1100 - attrition_output_loss: 0.3660 - department_output_loss: 0.7440 - attrition_output_accuracy: 0.8539 - department_output_accuracy: 0.6652 - val_loss: 1.1813 - val_attrition_output_loss: 0.3287 - val_department_output_loss: 0.8526 - val_attrition_output_accuracy: 0.8804 - val_department_output_accuracy: 0.6114\n",
            "Epoch 6/50\n",
            "35/35 [==============================] - 0s 2ms/step - loss: 1.0939 - attrition_output_loss: 0.3575 - department_output_loss: 0.7364 - attrition_output_accuracy: 0.8566 - department_output_accuracy: 0.6652 - val_loss: 1.1833 - val_attrition_output_loss: 0.3280 - val_department_output_loss: 0.8553 - val_attrition_output_accuracy: 0.8804 - val_department_output_accuracy: 0.5924\n",
            "Epoch 7/50\n",
            "35/35 [==============================] - 0s 2ms/step - loss: 1.0785 - attrition_output_loss: 0.3457 - department_output_loss: 0.7328 - attrition_output_accuracy: 0.8612 - department_output_accuracy: 0.6706 - val_loss: 1.1804 - val_attrition_output_loss: 0.3146 - val_department_output_loss: 0.8658 - val_attrition_output_accuracy: 0.8886 - val_department_output_accuracy: 0.6114\n",
            "Epoch 8/50\n",
            "35/35 [==============================] - 0s 2ms/step - loss: 1.0589 - attrition_output_loss: 0.3339 - department_output_loss: 0.7249 - attrition_output_accuracy: 0.8702 - department_output_accuracy: 0.6697 - val_loss: 1.1838 - val_attrition_output_loss: 0.3241 - val_department_output_loss: 0.8597 - val_attrition_output_accuracy: 0.8886 - val_department_output_accuracy: 0.6005\n",
            "Epoch 9/50\n",
            "35/35 [==============================] - 0s 2ms/step - loss: 1.0544 - attrition_output_loss: 0.3380 - department_output_loss: 0.7164 - attrition_output_accuracy: 0.8657 - department_output_accuracy: 0.6724 - val_loss: 1.1810 - val_attrition_output_loss: 0.3267 - val_department_output_loss: 0.8543 - val_attrition_output_accuracy: 0.8750 - val_department_output_accuracy: 0.5951\n",
            "Epoch 10/50\n",
            "35/35 [==============================] - 0s 2ms/step - loss: 1.0342 - attrition_output_loss: 0.3198 - department_output_loss: 0.7144 - attrition_output_accuracy: 0.8721 - department_output_accuracy: 0.6788 - val_loss: 1.1863 - val_attrition_output_loss: 0.3204 - val_department_output_loss: 0.8659 - val_attrition_output_accuracy: 0.8859 - val_department_output_accuracy: 0.6141\n",
            "Epoch 11/50\n",
            "35/35 [==============================] - 0s 2ms/step - loss: 1.0195 - attrition_output_loss: 0.3131 - department_output_loss: 0.7064 - attrition_output_accuracy: 0.8784 - department_output_accuracy: 0.6733 - val_loss: 1.1874 - val_attrition_output_loss: 0.3264 - val_department_output_loss: 0.8610 - val_attrition_output_accuracy: 0.8832 - val_department_output_accuracy: 0.6141\n",
            "Epoch 12/50\n",
            "35/35 [==============================] - 0s 2ms/step - loss: 1.0047 - attrition_output_loss: 0.3047 - department_output_loss: 0.7000 - attrition_output_accuracy: 0.8911 - department_output_accuracy: 0.6842 - val_loss: 1.2119 - val_attrition_output_loss: 0.3400 - val_department_output_loss: 0.8719 - val_attrition_output_accuracy: 0.8614 - val_department_output_accuracy: 0.5870\n",
            "Epoch 13/50\n",
            "35/35 [==============================] - 0s 2ms/step - loss: 0.9889 - attrition_output_loss: 0.3002 - department_output_loss: 0.6887 - attrition_output_accuracy: 0.8848 - department_output_accuracy: 0.6897 - val_loss: 1.1878 - val_attrition_output_loss: 0.3201 - val_department_output_loss: 0.8677 - val_attrition_output_accuracy: 0.8859 - val_department_output_accuracy: 0.6033\n",
            "Epoch 14/50\n",
            "35/35 [==============================] - 0s 2ms/step - loss: 0.9774 - attrition_output_loss: 0.2942 - department_output_loss: 0.6831 - attrition_output_accuracy: 0.8911 - department_output_accuracy: 0.6797 - val_loss: 1.2114 - val_attrition_output_loss: 0.3418 - val_department_output_loss: 0.8696 - val_attrition_output_accuracy: 0.8723 - val_department_output_accuracy: 0.6033\n",
            "Epoch 15/50\n",
            "35/35 [==============================] - 0s 2ms/step - loss: 0.9529 - attrition_output_loss: 0.2850 - department_output_loss: 0.6679 - attrition_output_accuracy: 0.8920 - department_output_accuracy: 0.6969 - val_loss: 1.2192 - val_attrition_output_loss: 0.3355 - val_department_output_loss: 0.8836 - val_attrition_output_accuracy: 0.8777 - val_department_output_accuracy: 0.5571\n",
            "Epoch 16/50\n",
            "35/35 [==============================] - 0s 2ms/step - loss: 0.9432 - attrition_output_loss: 0.2740 - department_output_loss: 0.6693 - attrition_output_accuracy: 0.8911 - department_output_accuracy: 0.7051 - val_loss: 1.2292 - val_attrition_output_loss: 0.3434 - val_department_output_loss: 0.8858 - val_attrition_output_accuracy: 0.8804 - val_department_output_accuracy: 0.5951\n",
            "Epoch 17/50\n",
            "35/35 [==============================] - 0s 2ms/step - loss: 0.9176 - attrition_output_loss: 0.2669 - department_output_loss: 0.6507 - attrition_output_accuracy: 0.8956 - department_output_accuracy: 0.7105 - val_loss: 1.2398 - val_attrition_output_loss: 0.3550 - val_department_output_loss: 0.8848 - val_attrition_output_accuracy: 0.8641 - val_department_output_accuracy: 0.5815\n",
            "Epoch 18/50\n",
            "35/35 [==============================] - 0s 2ms/step - loss: 0.9192 - attrition_output_loss: 0.2724 - department_output_loss: 0.6469 - attrition_output_accuracy: 0.8911 - department_output_accuracy: 0.7305 - val_loss: 1.2973 - val_attrition_output_loss: 0.3888 - val_department_output_loss: 0.9085 - val_attrition_output_accuracy: 0.8668 - val_department_output_accuracy: 0.5978\n",
            "Epoch 19/50\n",
            "35/35 [==============================] - 0s 2ms/step - loss: 0.8896 - attrition_output_loss: 0.2588 - department_output_loss: 0.6308 - attrition_output_accuracy: 0.8993 - department_output_accuracy: 0.7250 - val_loss: 1.2673 - val_attrition_output_loss: 0.3621 - val_department_output_loss: 0.9052 - val_attrition_output_accuracy: 0.8560 - val_department_output_accuracy: 0.6005\n",
            "Epoch 20/50\n",
            "35/35 [==============================] - 0s 2ms/step - loss: 0.8694 - attrition_output_loss: 0.2532 - department_output_loss: 0.6162 - attrition_output_accuracy: 0.8975 - department_output_accuracy: 0.7332 - val_loss: 1.2734 - val_attrition_output_loss: 0.3610 - val_department_output_loss: 0.9123 - val_attrition_output_accuracy: 0.8777 - val_department_output_accuracy: 0.5598\n",
            "Epoch 21/50\n",
            "35/35 [==============================] - 0s 2ms/step - loss: 0.8389 - attrition_output_loss: 0.2432 - department_output_loss: 0.5957 - attrition_output_accuracy: 0.9047 - department_output_accuracy: 0.7486 - val_loss: 1.2732 - val_attrition_output_loss: 0.3665 - val_department_output_loss: 0.9068 - val_attrition_output_accuracy: 0.8533 - val_department_output_accuracy: 0.5380\n",
            "Epoch 22/50\n",
            "35/35 [==============================] - 0s 2ms/step - loss: 0.8277 - attrition_output_loss: 0.2329 - department_output_loss: 0.5948 - attrition_output_accuracy: 0.9056 - department_output_accuracy: 0.7486 - val_loss: 1.2895 - val_attrition_output_loss: 0.3698 - val_department_output_loss: 0.9198 - val_attrition_output_accuracy: 0.8832 - val_department_output_accuracy: 0.5516\n",
            "Epoch 23/50\n",
            "35/35 [==============================] - 0s 2ms/step - loss: 0.8010 - attrition_output_loss: 0.2243 - department_output_loss: 0.5767 - attrition_output_accuracy: 0.9129 - department_output_accuracy: 0.7604 - val_loss: 1.3373 - val_attrition_output_loss: 0.3853 - val_department_output_loss: 0.9520 - val_attrition_output_accuracy: 0.8668 - val_department_output_accuracy: 0.5543\n",
            "Epoch 24/50\n",
            "35/35 [==============================] - 0s 2ms/step - loss: 0.7859 - attrition_output_loss: 0.2178 - department_output_loss: 0.5681 - attrition_output_accuracy: 0.9174 - department_output_accuracy: 0.7713 - val_loss: 1.3366 - val_attrition_output_loss: 0.3957 - val_department_output_loss: 0.9409 - val_attrition_output_accuracy: 0.8750 - val_department_output_accuracy: 0.5571\n",
            "Epoch 25/50\n",
            "35/35 [==============================] - 0s 2ms/step - loss: 0.7658 - attrition_output_loss: 0.2160 - department_output_loss: 0.5498 - attrition_output_accuracy: 0.9120 - department_output_accuracy: 0.7768 - val_loss: 1.3637 - val_attrition_output_loss: 0.3970 - val_department_output_loss: 0.9667 - val_attrition_output_accuracy: 0.8533 - val_department_output_accuracy: 0.5679\n",
            "Epoch 26/50\n",
            "35/35 [==============================] - 0s 2ms/step - loss: 0.7380 - attrition_output_loss: 0.2045 - department_output_loss: 0.5335 - attrition_output_accuracy: 0.9256 - department_output_accuracy: 0.7804 - val_loss: 1.3779 - val_attrition_output_loss: 0.3995 - val_department_output_loss: 0.9784 - val_attrition_output_accuracy: 0.8587 - val_department_output_accuracy: 0.5435\n",
            "Epoch 27/50\n",
            "35/35 [==============================] - 0s 2ms/step - loss: 0.7185 - attrition_output_loss: 0.1983 - department_output_loss: 0.5202 - attrition_output_accuracy: 0.9265 - department_output_accuracy: 0.7804 - val_loss: 1.3679 - val_attrition_output_loss: 0.3928 - val_department_output_loss: 0.9751 - val_attrition_output_accuracy: 0.8614 - val_department_output_accuracy: 0.5598\n",
            "Epoch 28/50\n",
            "35/35 [==============================] - 0s 2ms/step - loss: 0.7058 - attrition_output_loss: 0.2039 - department_output_loss: 0.5019 - attrition_output_accuracy: 0.9183 - department_output_accuracy: 0.8031 - val_loss: 1.4143 - val_attrition_output_loss: 0.4073 - val_department_output_loss: 1.0070 - val_attrition_output_accuracy: 0.8587 - val_department_output_accuracy: 0.5353\n",
            "Epoch 29/50\n",
            "35/35 [==============================] - 0s 2ms/step - loss: 0.6830 - attrition_output_loss: 0.1855 - department_output_loss: 0.4975 - attrition_output_accuracy: 0.9338 - department_output_accuracy: 0.8085 - val_loss: 1.4433 - val_attrition_output_loss: 0.4244 - val_department_output_loss: 1.0189 - val_attrition_output_accuracy: 0.8641 - val_department_output_accuracy: 0.5353\n",
            "Epoch 30/50\n",
            "35/35 [==============================] - 0s 3ms/step - loss: 0.6785 - attrition_output_loss: 0.1990 - department_output_loss: 0.4795 - attrition_output_accuracy: 0.9165 - department_output_accuracy: 0.8094 - val_loss: 1.5260 - val_attrition_output_loss: 0.4413 - val_department_output_loss: 1.0848 - val_attrition_output_accuracy: 0.8342 - val_department_output_accuracy: 0.5652\n",
            "Epoch 31/50\n",
            "35/35 [==============================] - 0s 2ms/step - loss: 0.6243 - attrition_output_loss: 0.1658 - department_output_loss: 0.4585 - attrition_output_accuracy: 0.9483 - department_output_accuracy: 0.8176 - val_loss: 1.5134 - val_attrition_output_loss: 0.4519 - val_department_output_loss: 1.0615 - val_attrition_output_accuracy: 0.8560 - val_department_output_accuracy: 0.5299\n",
            "Epoch 32/50\n",
            "35/35 [==============================] - 0s 2ms/step - loss: 0.6182 - attrition_output_loss: 0.1658 - department_output_loss: 0.4525 - attrition_output_accuracy: 0.9356 - department_output_accuracy: 0.8240 - val_loss: 1.5890 - val_attrition_output_loss: 0.4813 - val_department_output_loss: 1.1076 - val_attrition_output_accuracy: 0.8587 - val_department_output_accuracy: 0.5761\n",
            "Epoch 33/50\n",
            "35/35 [==============================] - 0s 2ms/step - loss: 0.5970 - attrition_output_loss: 0.1611 - department_output_loss: 0.4359 - attrition_output_accuracy: 0.9419 - department_output_accuracy: 0.8376 - val_loss: 1.5794 - val_attrition_output_loss: 0.4553 - val_department_output_loss: 1.1241 - val_attrition_output_accuracy: 0.8696 - val_department_output_accuracy: 0.5462\n",
            "Epoch 34/50\n",
            "35/35 [==============================] - 0s 2ms/step - loss: 0.5771 - attrition_output_loss: 0.1539 - department_output_loss: 0.4232 - attrition_output_accuracy: 0.9437 - department_output_accuracy: 0.8475 - val_loss: 1.5833 - val_attrition_output_loss: 0.4799 - val_department_output_loss: 1.1034 - val_attrition_output_accuracy: 0.8668 - val_department_output_accuracy: 0.5543\n",
            "Epoch 35/50\n",
            "35/35 [==============================] - 0s 2ms/step - loss: 0.5521 - attrition_output_loss: 0.1469 - department_output_loss: 0.4053 - attrition_output_accuracy: 0.9537 - department_output_accuracy: 0.8512 - val_loss: 1.6908 - val_attrition_output_loss: 0.4905 - val_department_output_loss: 1.2003 - val_attrition_output_accuracy: 0.8288 - val_department_output_accuracy: 0.5571\n",
            "Epoch 36/50\n",
            "35/35 [==============================] - 0s 2ms/step - loss: 0.5260 - attrition_output_loss: 0.1357 - department_output_loss: 0.3903 - attrition_output_accuracy: 0.9574 - department_output_accuracy: 0.8521 - val_loss: 1.6540 - val_attrition_output_loss: 0.4944 - val_department_output_loss: 1.1595 - val_attrition_output_accuracy: 0.8614 - val_department_output_accuracy: 0.5353\n",
            "Epoch 37/50\n",
            "35/35 [==============================] - 0s 2ms/step - loss: 0.5372 - attrition_output_loss: 0.1359 - department_output_loss: 0.4013 - attrition_output_accuracy: 0.9519 - department_output_accuracy: 0.8330 - val_loss: 1.7487 - val_attrition_output_loss: 0.5268 - val_department_output_loss: 1.2219 - val_attrition_output_accuracy: 0.8614 - val_department_output_accuracy: 0.5054\n",
            "Epoch 38/50\n",
            "35/35 [==============================] - 0s 2ms/step - loss: 0.5048 - attrition_output_loss: 0.1344 - department_output_loss: 0.3704 - attrition_output_accuracy: 0.9519 - department_output_accuracy: 0.8657 - val_loss: 1.7279 - val_attrition_output_loss: 0.5222 - val_department_output_loss: 1.2057 - val_attrition_output_accuracy: 0.8288 - val_department_output_accuracy: 0.5299\n",
            "Epoch 39/50\n",
            "35/35 [==============================] - 0s 2ms/step - loss: 0.4875 - attrition_output_loss: 0.1221 - department_output_loss: 0.3654 - attrition_output_accuracy: 0.9655 - department_output_accuracy: 0.8721 - val_loss: 1.7853 - val_attrition_output_loss: 0.5487 - val_department_output_loss: 1.2366 - val_attrition_output_accuracy: 0.8614 - val_department_output_accuracy: 0.5408\n",
            "Epoch 40/50\n",
            "35/35 [==============================] - 0s 2ms/step - loss: 0.4857 - attrition_output_loss: 0.1201 - department_output_loss: 0.3657 - attrition_output_accuracy: 0.9637 - department_output_accuracy: 0.8639 - val_loss: 1.8104 - val_attrition_output_loss: 0.5593 - val_department_output_loss: 1.2511 - val_attrition_output_accuracy: 0.8261 - val_department_output_accuracy: 0.5272\n",
            "Epoch 41/50\n",
            "35/35 [==============================] - 0s 2ms/step - loss: 0.4534 - attrition_output_loss: 0.1169 - department_output_loss: 0.3365 - attrition_output_accuracy: 0.9628 - department_output_accuracy: 0.8829 - val_loss: 1.8451 - val_attrition_output_loss: 0.5597 - val_department_output_loss: 1.2854 - val_attrition_output_accuracy: 0.8397 - val_department_output_accuracy: 0.5272\n",
            "Epoch 42/50\n",
            "35/35 [==============================] - 0s 2ms/step - loss: 0.4424 - attrition_output_loss: 0.1151 - department_output_loss: 0.3273 - attrition_output_accuracy: 0.9637 - department_output_accuracy: 0.8911 - val_loss: 1.8543 - val_attrition_output_loss: 0.5466 - val_department_output_loss: 1.3077 - val_attrition_output_accuracy: 0.8261 - val_department_output_accuracy: 0.5299\n",
            "Epoch 43/50\n",
            "35/35 [==============================] - 0s 2ms/step - loss: 0.4224 - attrition_output_loss: 0.1069 - department_output_loss: 0.3156 - attrition_output_accuracy: 0.9655 - department_output_accuracy: 0.8857 - val_loss: 1.8998 - val_attrition_output_loss: 0.6012 - val_department_output_loss: 1.2986 - val_attrition_output_accuracy: 0.8478 - val_department_output_accuracy: 0.5353\n",
            "Epoch 44/50\n",
            "35/35 [==============================] - 0s 2ms/step - loss: 0.4083 - attrition_output_loss: 0.0996 - department_output_loss: 0.3088 - attrition_output_accuracy: 0.9701 - department_output_accuracy: 0.8975 - val_loss: 1.9138 - val_attrition_output_loss: 0.6014 - val_department_output_loss: 1.3124 - val_attrition_output_accuracy: 0.8207 - val_department_output_accuracy: 0.5190\n",
            "Epoch 45/50\n",
            "35/35 [==============================] - 0s 2ms/step - loss: 0.3888 - attrition_output_loss: 0.0984 - department_output_loss: 0.2905 - attrition_output_accuracy: 0.9710 - department_output_accuracy: 0.9047 - val_loss: 1.9665 - val_attrition_output_loss: 0.6003 - val_department_output_loss: 1.3662 - val_attrition_output_accuracy: 0.8261 - val_department_output_accuracy: 0.5054\n",
            "Epoch 46/50\n",
            "35/35 [==============================] - 0s 2ms/step - loss: 0.3836 - attrition_output_loss: 0.1041 - department_output_loss: 0.2795 - attrition_output_accuracy: 0.9628 - department_output_accuracy: 0.9020 - val_loss: 2.1000 - val_attrition_output_loss: 0.6330 - val_department_output_loss: 1.4670 - val_attrition_output_accuracy: 0.8207 - val_department_output_accuracy: 0.5299\n",
            "Epoch 47/50\n",
            "35/35 [==============================] - 0s 2ms/step - loss: 0.3713 - attrition_output_loss: 0.0943 - department_output_loss: 0.2770 - attrition_output_accuracy: 0.9755 - department_output_accuracy: 0.8993 - val_loss: 2.0599 - val_attrition_output_loss: 0.6400 - val_department_output_loss: 1.4199 - val_attrition_output_accuracy: 0.8370 - val_department_output_accuracy: 0.5299\n",
            "Epoch 48/50\n",
            "35/35 [==============================] - 0s 2ms/step - loss: 0.3512 - attrition_output_loss: 0.0875 - department_output_loss: 0.2637 - attrition_output_accuracy: 0.9737 - department_output_accuracy: 0.9147 - val_loss: 2.1751 - val_attrition_output_loss: 0.7056 - val_department_output_loss: 1.4695 - val_attrition_output_accuracy: 0.8397 - val_department_output_accuracy: 0.5109\n",
            "Epoch 49/50\n",
            "35/35 [==============================] - 0s 2ms/step - loss: 0.3401 - attrition_output_loss: 0.0893 - department_output_loss: 0.2509 - attrition_output_accuracy: 0.9728 - department_output_accuracy: 0.9111 - val_loss: 2.1313 - val_attrition_output_loss: 0.6609 - val_department_output_loss: 1.4703 - val_attrition_output_accuracy: 0.8125 - val_department_output_accuracy: 0.5245\n",
            "Epoch 50/50\n",
            "35/35 [==============================] - 0s 2ms/step - loss: 0.3185 - attrition_output_loss: 0.0791 - department_output_loss: 0.2394 - attrition_output_accuracy: 0.9746 - department_output_accuracy: 0.9165 - val_loss: 2.1839 - val_attrition_output_loss: 0.7071 - val_department_output_loss: 1.4767 - val_attrition_output_accuracy: 0.8179 - val_department_output_accuracy: 0.5190\n"
          ]
        }
      ],
      "source": [
        "history = model.fit(\n",
        "    x=X_train_scaled,  # Scaled feature data\n",
        "    y={\n",
        "        'attrition_output': attrition_train_encoded,  # One-hot encoded targets for attrition\n",
        "        'department_output': department_train_encoded  # One-hot encoded targets for department\n",
        "    },\n",
        "    validation_data=(X_test_scaled, {\n",
        "        'attrition_output': attrition_test_encoded,  # One-hot encoded validation targets for attrition\n",
        "        'department_output': department_test_encoded  # One-hot encoded validation targets for department\n",
        "    }),\n",
        "    epochs=50,  # Number of training epochs\n",
        "    batch_size=32,  # Size of each batch of data\n",
        "    verbose=1  # Verbosity mode: 1 for progress bar\n",
        ")\n",
        "\n"
      ]
    },
    {
      "cell_type": "code",
      "execution_count": 16,
      "metadata": {
        "colab": {
          "base_uri": "https://localhost:8080/"
        },
        "id": "VsMoaQlgGc3U",
        "outputId": "1bd4e601-e964-4abc-ad83-aeecf6b696be"
      },
      "outputs": [
        {
          "name": "stdout",
          "output_type": "stream",
          "text": [
            "12/12 [==============================] - 0s 1ms/step - loss: 2.1839 - attrition_output_loss: 0.7071 - department_output_loss: 1.4767 - attrition_output_accuracy: 0.8179 - department_output_accuracy: 0.5190\n",
            "Test results - Loss: 2.18385648727417 - Attrition Accuracy: 0.7071333527565002 - Department Accuracy: 1.476723074913025\n"
          ]
        }
      ],
      "source": [
        "# Evaluate the model with the testing data\n",
        "test_results = model.evaluate(\n",
        "    x=X_test_scaled,\n",
        "    y={\n",
        "        'attrition_output': attrition_test_encoded,\n",
        "        'department_output': department_test_encoded\n",
        "    },\n",
        "    verbose=1  # Show progress\n",
        ")\n",
        "\n",
        "print(f\"Test results - Loss: {test_results[0]} - Attrition Accuracy: {test_results[1]} - Department Accuracy: {test_results[2]}\")\n",
        "\n"
      ]
    },
    {
      "cell_type": "code",
      "execution_count": 17,
      "metadata": {
        "colab": {
          "base_uri": "https://localhost:8080/"
        },
        "id": "ZlCtlHi0Vt54",
        "outputId": "bc21ef3e-80c2-4b38-9c29-79515bc23dec"
      },
      "outputs": [
        {
          "name": "stdout",
          "output_type": "stream",
          "text": [
            "Attrition Accuracy: 81.79%\n",
            "Department Accuracy: 51.90%\n"
          ]
        }
      ],
      "source": [
        "# Print the accuracy for both department and attrition\n",
        "# Print the accuracies for both outputs\n",
        "print(f\"Attrition Accuracy: {test_results[3]*100:.2f}%\")\n",
        "print(f\"Department Accuracy: {test_results[4]*100:.2f}%\")\n"
      ]
    },
    {
      "cell_type": "markdown",
      "metadata": {
        "id": "eGSyfsZfWOQM"
      },
      "source": [
        "# Summary\n",
        "\n",
        "In the provided space below, briefly answer the following questions.\n",
        "\n",
        "1. Is accuracy the best metric to use on this data? Why or why not?\n",
        "\n",
        "2. What activation functions did you choose for your output layers, and why?\n",
        "\n",
        "3. Can you name a few ways that this model might be improved?"
      ]
    },
    {
      "cell_type": "markdown",
      "metadata": {
        "id": "pi9SLpFnWvbF"
      },
      "source": [
        "YOUR ANSWERS HERE\n",
        "\n",
        "1. Accuracy may not always be the best metric for evaluating models on this data, particularly if there's class imbalance, as it could lead to misleading high scores by favoring the majority class. Metrics like precision, recall, F1-score, or ROC-AUC are more informative for assessing model performance in such scenarios, as they consider the balance between different types of classification errors and class distributions.\n",
        "2. I used the softmax activation function for the output layers of both the 'Attrition' and 'Department' predictions because it is ideal for multi-class classification problems, providing a probability distribution across the possible categories. This function helps in predicting the likelihood of each category, making it suitable for both binary (one-hot encoded) and multi-class outputs in the neural network.\n",
        "3. To improve the model, consider using techniques like cross-validation for more robust training, incorporating dropout layers to reduce overfitting, and experimenting with different architectures or hyperparameters. Additionally, gathering more data or employing advanced feature engineering techniques, such as interaction terms or embedding layers for categorical variables, might enhance predictive performance."
      ]
    },
    {
      "cell_type": "markdown",
      "metadata": {},
      "source": []
    }
  ],
  "metadata": {
    "colab": {
      "provenance": []
    },
    "kernelspec": {
      "display_name": "Python 3",
      "language": "python",
      "name": "python3"
    },
    "language_info": {
      "codemirror_mode": {
        "name": "ipython",
        "version": 3
      },
      "file_extension": ".py",
      "mimetype": "text/x-python",
      "name": "python",
      "nbconvert_exporter": "python",
      "pygments_lexer": "ipython3",
      "version": "3.11.7"
    },
    "vscode": {
      "interpreter": {
        "hash": "31f2aee4e71d21fbe5cf8b01ff0e069b9275f58929596ceb00d14d90e3e16cd6"
      }
    }
  },
  "nbformat": 4,
  "nbformat_minor": 0
}
