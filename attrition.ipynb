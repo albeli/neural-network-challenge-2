{
  "cells": [
    {
      "cell_type": "markdown",
      "metadata": {
        "id": "alIIEHibGc3M"
      },
      "source": [
        "## Part 1: Preprocessing"
      ]
    },
    {
      "cell_type": "code",
      "execution_count": 1,
      "metadata": {
        "colab": {
          "base_uri": "https://localhost:8080/",
          "height": 325
        },
        "id": "6eDUJ4NtGc3P",
        "outputId": "2480098c-135c-4cbf-9552-018494ee8ff5"
      },
      "outputs": [
        {
          "data": {
            "text/html": [
              "<div>\n",
              "<style scoped>\n",
              "    .dataframe tbody tr th:only-of-type {\n",
              "        vertical-align: middle;\n",
              "    }\n",
              "\n",
              "    .dataframe tbody tr th {\n",
              "        vertical-align: top;\n",
              "    }\n",
              "\n",
              "    .dataframe thead th {\n",
              "        text-align: right;\n",
              "    }\n",
              "</style>\n",
              "<table border=\"1\" class=\"dataframe\">\n",
              "  <thead>\n",
              "    <tr style=\"text-align: right;\">\n",
              "      <th></th>\n",
              "      <th>Age</th>\n",
              "      <th>Attrition</th>\n",
              "      <th>BusinessTravel</th>\n",
              "      <th>Department</th>\n",
              "      <th>DistanceFromHome</th>\n",
              "      <th>Education</th>\n",
              "      <th>EducationField</th>\n",
              "      <th>EnvironmentSatisfaction</th>\n",
              "      <th>HourlyRate</th>\n",
              "      <th>JobInvolvement</th>\n",
              "      <th>...</th>\n",
              "      <th>PerformanceRating</th>\n",
              "      <th>RelationshipSatisfaction</th>\n",
              "      <th>StockOptionLevel</th>\n",
              "      <th>TotalWorkingYears</th>\n",
              "      <th>TrainingTimesLastYear</th>\n",
              "      <th>WorkLifeBalance</th>\n",
              "      <th>YearsAtCompany</th>\n",
              "      <th>YearsInCurrentRole</th>\n",
              "      <th>YearsSinceLastPromotion</th>\n",
              "      <th>YearsWithCurrManager</th>\n",
              "    </tr>\n",
              "  </thead>\n",
              "  <tbody>\n",
              "    <tr>\n",
              "      <th>0</th>\n",
              "      <td>41</td>\n",
              "      <td>Yes</td>\n",
              "      <td>Travel_Rarely</td>\n",
              "      <td>Sales</td>\n",
              "      <td>1</td>\n",
              "      <td>2</td>\n",
              "      <td>Life Sciences</td>\n",
              "      <td>2</td>\n",
              "      <td>94</td>\n",
              "      <td>3</td>\n",
              "      <td>...</td>\n",
              "      <td>3</td>\n",
              "      <td>1</td>\n",
              "      <td>0</td>\n",
              "      <td>8</td>\n",
              "      <td>0</td>\n",
              "      <td>1</td>\n",
              "      <td>6</td>\n",
              "      <td>4</td>\n",
              "      <td>0</td>\n",
              "      <td>5</td>\n",
              "    </tr>\n",
              "    <tr>\n",
              "      <th>1</th>\n",
              "      <td>49</td>\n",
              "      <td>No</td>\n",
              "      <td>Travel_Frequently</td>\n",
              "      <td>Research &amp; Development</td>\n",
              "      <td>8</td>\n",
              "      <td>1</td>\n",
              "      <td>Life Sciences</td>\n",
              "      <td>3</td>\n",
              "      <td>61</td>\n",
              "      <td>2</td>\n",
              "      <td>...</td>\n",
              "      <td>4</td>\n",
              "      <td>4</td>\n",
              "      <td>1</td>\n",
              "      <td>10</td>\n",
              "      <td>3</td>\n",
              "      <td>3</td>\n",
              "      <td>10</td>\n",
              "      <td>7</td>\n",
              "      <td>1</td>\n",
              "      <td>7</td>\n",
              "    </tr>\n",
              "    <tr>\n",
              "      <th>2</th>\n",
              "      <td>37</td>\n",
              "      <td>Yes</td>\n",
              "      <td>Travel_Rarely</td>\n",
              "      <td>Research &amp; Development</td>\n",
              "      <td>2</td>\n",
              "      <td>2</td>\n",
              "      <td>Other</td>\n",
              "      <td>4</td>\n",
              "      <td>92</td>\n",
              "      <td>2</td>\n",
              "      <td>...</td>\n",
              "      <td>3</td>\n",
              "      <td>2</td>\n",
              "      <td>0</td>\n",
              "      <td>7</td>\n",
              "      <td>3</td>\n",
              "      <td>3</td>\n",
              "      <td>0</td>\n",
              "      <td>0</td>\n",
              "      <td>0</td>\n",
              "      <td>0</td>\n",
              "    </tr>\n",
              "    <tr>\n",
              "      <th>3</th>\n",
              "      <td>33</td>\n",
              "      <td>No</td>\n",
              "      <td>Travel_Frequently</td>\n",
              "      <td>Research &amp; Development</td>\n",
              "      <td>3</td>\n",
              "      <td>4</td>\n",
              "      <td>Life Sciences</td>\n",
              "      <td>4</td>\n",
              "      <td>56</td>\n",
              "      <td>3</td>\n",
              "      <td>...</td>\n",
              "      <td>3</td>\n",
              "      <td>3</td>\n",
              "      <td>0</td>\n",
              "      <td>8</td>\n",
              "      <td>3</td>\n",
              "      <td>3</td>\n",
              "      <td>8</td>\n",
              "      <td>7</td>\n",
              "      <td>3</td>\n",
              "      <td>0</td>\n",
              "    </tr>\n",
              "    <tr>\n",
              "      <th>4</th>\n",
              "      <td>27</td>\n",
              "      <td>No</td>\n",
              "      <td>Travel_Rarely</td>\n",
              "      <td>Research &amp; Development</td>\n",
              "      <td>2</td>\n",
              "      <td>1</td>\n",
              "      <td>Medical</td>\n",
              "      <td>1</td>\n",
              "      <td>40</td>\n",
              "      <td>3</td>\n",
              "      <td>...</td>\n",
              "      <td>3</td>\n",
              "      <td>4</td>\n",
              "      <td>1</td>\n",
              "      <td>6</td>\n",
              "      <td>3</td>\n",
              "      <td>3</td>\n",
              "      <td>2</td>\n",
              "      <td>2</td>\n",
              "      <td>2</td>\n",
              "      <td>2</td>\n",
              "    </tr>\n",
              "  </tbody>\n",
              "</table>\n",
              "<p>5 rows × 27 columns</p>\n",
              "</div>"
            ],
            "text/plain": [
              "   Age Attrition     BusinessTravel              Department  DistanceFromHome  \\\n",
              "0   41       Yes      Travel_Rarely                   Sales                 1   \n",
              "1   49        No  Travel_Frequently  Research & Development                 8   \n",
              "2   37       Yes      Travel_Rarely  Research & Development                 2   \n",
              "3   33        No  Travel_Frequently  Research & Development                 3   \n",
              "4   27        No      Travel_Rarely  Research & Development                 2   \n",
              "\n",
              "   Education EducationField  EnvironmentSatisfaction  HourlyRate  \\\n",
              "0          2  Life Sciences                        2          94   \n",
              "1          1  Life Sciences                        3          61   \n",
              "2          2          Other                        4          92   \n",
              "3          4  Life Sciences                        4          56   \n",
              "4          1        Medical                        1          40   \n",
              "\n",
              "   JobInvolvement  ...  PerformanceRating RelationshipSatisfaction  \\\n",
              "0               3  ...                  3                        1   \n",
              "1               2  ...                  4                        4   \n",
              "2               2  ...                  3                        2   \n",
              "3               3  ...                  3                        3   \n",
              "4               3  ...                  3                        4   \n",
              "\n",
              "   StockOptionLevel TotalWorkingYears  TrainingTimesLastYear WorkLifeBalance  \\\n",
              "0                 0                 8                      0               1   \n",
              "1                 1                10                      3               3   \n",
              "2                 0                 7                      3               3   \n",
              "3                 0                 8                      3               3   \n",
              "4                 1                 6                      3               3   \n",
              "\n",
              "   YearsAtCompany  YearsInCurrentRole  YearsSinceLastPromotion  \\\n",
              "0               6                   4                        0   \n",
              "1              10                   7                        1   \n",
              "2               0                   0                        0   \n",
              "3               8                   7                        3   \n",
              "4               2                   2                        2   \n",
              "\n",
              "   YearsWithCurrManager  \n",
              "0                     5  \n",
              "1                     7  \n",
              "2                     0  \n",
              "3                     0  \n",
              "4                     2  \n",
              "\n",
              "[5 rows x 27 columns]"
            ]
          },
          "execution_count": 1,
          "metadata": {},
          "output_type": "execute_result"
        }
      ],
      "source": [
        "# Import our dependencies\n",
        "from sklearn.model_selection import train_test_split\n",
        "from sklearn.preprocessing import StandardScaler, OneHotEncoder\n",
        "import pandas as pd\n",
        "import numpy as np\n",
        "import tensorflow as tf\n",
        "from tensorflow.keras.models import Model\n",
        "from tensorflow.keras.layers import Input, Dense\n",
        "\n",
        "# Import and read the attrition data\n",
        "attrition_df = pd.read_csv('https://static.bc-edx.com/ai/ail-v-1-0/m19/lms/datasets/attrition.csv')\n",
        "attrition_df.head()\n"
      ]
    },
    {
      "cell_type": "code",
      "execution_count": 2,
      "metadata": {},
      "outputs": [
        {
          "name": "stdout",
          "output_type": "stream",
          "text": [
            "<class 'pandas.core.frame.DataFrame'>\n",
            "RangeIndex: 1470 entries, 0 to 1469\n",
            "Data columns (total 27 columns):\n",
            " #   Column                    Non-Null Count  Dtype \n",
            "---  ------                    --------------  ----- \n",
            " 0   Age                       1470 non-null   int64 \n",
            " 1   Attrition                 1470 non-null   object\n",
            " 2   BusinessTravel            1470 non-null   object\n",
            " 3   Department                1470 non-null   object\n",
            " 4   DistanceFromHome          1470 non-null   int64 \n",
            " 5   Education                 1470 non-null   int64 \n",
            " 6   EducationField            1470 non-null   object\n",
            " 7   EnvironmentSatisfaction   1470 non-null   int64 \n",
            " 8   HourlyRate                1470 non-null   int64 \n",
            " 9   JobInvolvement            1470 non-null   int64 \n",
            " 10  JobLevel                  1470 non-null   int64 \n",
            " 11  JobRole                   1470 non-null   object\n",
            " 12  JobSatisfaction           1470 non-null   int64 \n",
            " 13  MaritalStatus             1470 non-null   object\n",
            " 14  NumCompaniesWorked        1470 non-null   int64 \n",
            " 15  OverTime                  1470 non-null   object\n",
            " 16  PercentSalaryHike         1470 non-null   int64 \n",
            " 17  PerformanceRating         1470 non-null   int64 \n",
            " 18  RelationshipSatisfaction  1470 non-null   int64 \n",
            " 19  StockOptionLevel          1470 non-null   int64 \n",
            " 20  TotalWorkingYears         1470 non-null   int64 \n",
            " 21  TrainingTimesLastYear     1470 non-null   int64 \n",
            " 22  WorkLifeBalance           1470 non-null   int64 \n",
            " 23  YearsAtCompany            1470 non-null   int64 \n",
            " 24  YearsInCurrentRole        1470 non-null   int64 \n",
            " 25  YearsSinceLastPromotion   1470 non-null   int64 \n",
            " 26  YearsWithCurrManager      1470 non-null   int64 \n",
            "dtypes: int64(20), object(7)\n",
            "memory usage: 310.2+ KB\n"
          ]
        }
      ],
      "source": [
        "attrition_df.info()"
      ]
    },
    {
      "cell_type": "code",
      "execution_count": 3,
      "metadata": {
        "colab": {
          "base_uri": "https://localhost:8080/"
        },
        "id": "g22aQSY4Gc3Q",
        "outputId": "1f5c13c1-b981-4e40-a7ed-dd3fe6f1b81e"
      },
      "outputs": [
        {
          "data": {
            "text/plain": [
              "Age                         43\n",
              "Attrition                    2\n",
              "BusinessTravel               3\n",
              "Department                   3\n",
              "DistanceFromHome            29\n",
              "Education                    5\n",
              "EducationField               6\n",
              "EnvironmentSatisfaction      4\n",
              "HourlyRate                  71\n",
              "JobInvolvement               4\n",
              "JobLevel                     5\n",
              "JobRole                      9\n",
              "JobSatisfaction              4\n",
              "MaritalStatus                3\n",
              "NumCompaniesWorked          10\n",
              "OverTime                     2\n",
              "PercentSalaryHike           15\n",
              "PerformanceRating            2\n",
              "RelationshipSatisfaction     4\n",
              "StockOptionLevel             4\n",
              "TotalWorkingYears           40\n",
              "TrainingTimesLastYear        7\n",
              "WorkLifeBalance              4\n",
              "YearsAtCompany              37\n",
              "YearsInCurrentRole          19\n",
              "YearsSinceLastPromotion     16\n",
              "YearsWithCurrManager        18\n",
              "dtype: int64"
            ]
          },
          "execution_count": 3,
          "metadata": {},
          "output_type": "execute_result"
        }
      ],
      "source": [
        "# Determine the number of unique values in each column.\n",
        "attrition_df.nunique()"
      ]
    },
    {
      "cell_type": "code",
      "execution_count": 4,
      "metadata": {
        "id": "50vMgBEnJbfM"
      },
      "outputs": [],
      "source": [
        "# Create y_df with the Attrition and Department columns\n",
        "y_df = attrition_df[['Attrition', 'Department']]\n",
        "\n"
      ]
    },
    {
      "cell_type": "code",
      "execution_count": 5,
      "metadata": {
        "colab": {
          "base_uri": "https://localhost:8080/"
        },
        "id": "Virka0zLGc3R",
        "outputId": "dd5aee3a-9458-4ba6-e857-1b234de40915"
      },
      "outputs": [
        {
          "data": {
            "text/plain": [
              "Age                         int64\n",
              "Education                   int64\n",
              "JobSatisfaction             int64\n",
              "DistanceFromHome            int64\n",
              "OverTime                   object\n",
              "StockOptionLevel            int64\n",
              "WorkLifeBalance             int64\n",
              "NumCompaniesWorked          int64\n",
              "YearsAtCompany              int64\n",
              "YearsSinceLastPromotion     int64\n",
              "dtype: object"
            ]
          },
          "execution_count": 5,
          "metadata": {},
          "output_type": "execute_result"
        }
      ],
      "source": [
        "# Create a list of at least 10 column names to use as X data\n",
        "\n",
        "features = ['Age', 'Education', 'JobSatisfaction', 'DistanceFromHome', \n",
        "            'OverTime', 'StockOptionLevel', 'WorkLifeBalance', 'NumCompaniesWorked', 'YearsAtCompany','YearsSinceLastPromotion']\n",
        "\n",
        "\n",
        "# Create X_df using your selected columns\n",
        "X_df = attrition_df[features]\n",
        "\n",
        "\n",
        "# Show the data types for X_df\n",
        "X_df.dtypes\n",
        "\n"
      ]
    },
    {
      "cell_type": "code",
      "execution_count": 6,
      "metadata": {},
      "outputs": [],
      "source": [
        "# Convert your X data to numeric data types however you see fit\n",
        "X_df.loc[:, 'OverTime'] = X_df['OverTime'].apply(lambda x: 1 if x == 'Yes' else 0)\n",
        "\n",
        "# X_df['OverTime'] = X_df['OverTime'].apply(lambda x: 1 if x == 'Yes' else 0)\n"
      ]
    },
    {
      "cell_type": "code",
      "execution_count": 7,
      "metadata": {
        "id": "KaJfdOGUMHMR"
      },
      "outputs": [],
      "source": [
        "# Split the data into training and testing sets\n",
        "\n",
        "X_train, X_test, y_train, y_test = train_test_split(X_df, y_df, test_size=0.25, random_state=78)\n"
      ]
    },
    {
      "cell_type": "code",
      "execution_count": 8,
      "metadata": {
        "id": "EWA-aIA5Gc3T"
      },
      "outputs": [],
      "source": [
        "# Create a StandardScaler\n",
        "scaler = StandardScaler()\n",
        "\n",
        "# Fit the StandardScaler to the training data\n",
        "X_train_scaled = scaler.fit_transform(X_train)\n",
        "\n",
        "# Scale the training and testing data\n",
        "X_test_scaled = scaler.transform(X_test)\n"
      ]
    },
    {
      "cell_type": "code",
      "execution_count": 9,
      "metadata": {
        "colab": {
          "base_uri": "https://localhost:8080/"
        },
        "id": "-z0Mky8vQSz4",
        "outputId": "debefc85-c20b-48f5-f4d9-91eadd65d36a"
      },
      "outputs": [],
      "source": [
        "# Create a OneHotEncoder for the Department column\n",
        "encoder = OneHotEncoder(sparse_output=False)\n",
        "\n",
        "# Fit the encoder to the training data\n",
        "encoder.fit(y_train[['Department']])\n",
        "\n",
        "# Create two new variables by applying the encoder\n",
        "# to the training and testing data\n",
        "department_train_encoded = encoder.transform(y_train[['Department']])\n",
        "department_test_encoded = encoder.transform(y_test[['Department']])"
      ]
    },
    {
      "cell_type": "code",
      "execution_count": 10,
      "metadata": {
        "colab": {
          "base_uri": "https://localhost:8080/"
        },
        "id": "-G4DSpvFRrk4",
        "outputId": "9842e948-8a55-4b80-8fac-f96714e85589"
      },
      "outputs": [],
      "source": [
        "# Create a OneHotEncoder for the Attrition column\n",
        "attrition_encoder = OneHotEncoder(sparse_output=False)\n",
        "\n",
        "# Fit the encoder to the training data\n",
        "attrition_encoder.fit(y_train[['Attrition']])\n",
        "\n",
        "# Transform the 'Attrition' column in training and testing data\n",
        "attrition_train_encoded = attrition_encoder.transform(y_train[['Attrition']])\n",
        "attrition_test_encoded = attrition_encoder.transform(y_test[['Attrition']])"
      ]
    },
    {
      "cell_type": "markdown",
      "metadata": {
        "id": "ykNmu_WWGc3T"
      },
      "source": [
        "## Create, Compile, and Train the Model"
      ]
    },
    {
      "cell_type": "code",
      "execution_count": 11,
      "metadata": {
        "id": "WUptZqmSGc3T"
      },
      "outputs": [],
      "source": [
        "# Find the number of columns in the X training data\n",
        "num_features = X_train_scaled.shape[1]\n",
        "\n",
        "# Create the input layer\n",
        "input_layer = tf.keras.layers.Input(shape=(num_features,))\n",
        "\n",
        "# Create at least two shared layers\n",
        "shared_layer1 = tf.keras.layers.Dense(128, activation='relu')(input_layer)\n",
        "shared_layer2 = tf.keras.layers.Dense(64, activation='relu')(shared_layer1)\n"
      ]
    },
    {
      "cell_type": "code",
      "execution_count": 12,
      "metadata": {
        "id": "JukjTm2yTEqd"
      },
      "outputs": [],
      "source": [
        "# Create a branch for Department\n",
        "# with a hidden layer and an output layer\n",
        "num_departments = department_train_encoded.shape[1]\n",
        "\n",
        "# Create the hidden layer\n",
        "department_hidden = tf.keras.layers.Dense(32, activation='relu')(shared_layer2)\n",
        "\n",
        "# Create the output layer\n",
        "department_output = tf.keras.layers.Dense(num_departments, activation='softmax', name='department_output')(department_hidden)\n"
      ]
    },
    {
      "cell_type": "code",
      "execution_count": 13,
      "metadata": {
        "id": "9OqhUiOJUBkR"
      },
      "outputs": [],
      "source": [
        "# Create a branch for Attrition\n",
        "# with a hidden layer and an output layer\n",
        "num_attrition_categories = attrition_train_encoded.shape[1]\n",
        "# Create the hidden layer\n",
        "attrition_hidden = tf.keras.layers.Dense(32, activation='relu')(shared_layer2)\n",
        "\n",
        "# Create the output layer\n",
        "attrition_output = tf.keras.layers.Dense(num_attrition_categories, activation='softmax', name='attrition_output')(attrition_hidden)\n"
      ]
    },
    {
      "cell_type": "code",
      "execution_count": 14,
      "metadata": {
        "colab": {
          "base_uri": "https://localhost:8080/"
        },
        "id": "twmuejdxGc3T",
        "outputId": "25096308-b68b-42e4-e4ea-ae82e97c435a"
      },
      "outputs": [
        {
          "name": "stdout",
          "output_type": "stream",
          "text": [
            "Model: \"model\"\n",
            "__________________________________________________________________________________________________\n",
            " Layer (type)                   Output Shape         Param #     Connected to                     \n",
            "==================================================================================================\n",
            " input_1 (InputLayer)           [(None, 10)]         0           []                               \n",
            "                                                                                                  \n",
            " dense (Dense)                  (None, 128)          1408        ['input_1[0][0]']                \n",
            "                                                                                                  \n",
            " dense_1 (Dense)                (None, 64)           8256        ['dense[0][0]']                  \n",
            "                                                                                                  \n",
            " dense_3 (Dense)                (None, 32)           2080        ['dense_1[0][0]']                \n",
            "                                                                                                  \n",
            " dense_2 (Dense)                (None, 32)           2080        ['dense_1[0][0]']                \n",
            "                                                                                                  \n",
            " attrition_output (Dense)       (None, 2)            66          ['dense_3[0][0]']                \n",
            "                                                                                                  \n",
            " department_output (Dense)      (None, 3)            99          ['dense_2[0][0]']                \n",
            "                                                                                                  \n",
            "==================================================================================================\n",
            "Total params: 13,989\n",
            "Trainable params: 13,989\n",
            "Non-trainable params: 0\n",
            "__________________________________________________________________________________________________\n"
          ]
        }
      ],
      "source": [
        "# Create the model\n",
        "model = Model(inputs=input_layer, outputs=[attrition_output, department_output])\n",
        "\n",
        "# Compiling the model\n",
        "model.compile(\n",
        "    optimizer='adam',\n",
        "    loss={\n",
        "        'attrition_output': 'categorical_crossentropy',  # Use categorical_crossentropy because attrition is one-hot encoded\n",
        "        'department_output': 'categorical_crossentropy'  # Use categorical_crossentropy for one-hot encoded department labels\n",
        "    },\n",
        "    metrics={\n",
        "        'attrition_output': ['accuracy'],\n",
        "        'department_output': ['accuracy']\n",
        "    }\n",
        ")\n",
        "\n",
        "# Summarize the model\n",
        "model.summary()"
      ]
    },
    {
      "cell_type": "code",
      "execution_count": 15,
      "metadata": {
        "colab": {
          "base_uri": "https://localhost:8080/"
        },
        "id": "c8oGy0dpGc3U",
        "outputId": "cc667d43-28cf-42d4-d719-c2bc02888d30"
      },
      "outputs": [
        {
          "name": "stdout",
          "output_type": "stream",
          "text": [
            "Epoch 1/50\n",
            "35/35 [==============================] - 1s 9ms/step - loss: 1.4458 - attrition_output_loss: 0.5407 - department_output_loss: 0.9052 - attrition_output_accuracy: 0.7568 - department_output_accuracy: 0.5635 - val_loss: 1.2043 - val_attrition_output_loss: 0.3602 - val_department_output_loss: 0.8441 - val_attrition_output_accuracy: 0.8723 - val_department_output_accuracy: 0.6168\n",
            "Epoch 2/50\n",
            "35/35 [==============================] - 0s 2ms/step - loss: 1.1756 - attrition_output_loss: 0.4117 - department_output_loss: 0.7638 - attrition_output_accuracy: 0.8358 - department_output_accuracy: 0.6661 - val_loss: 1.1709 - val_attrition_output_loss: 0.3284 - val_department_output_loss: 0.8426 - val_attrition_output_accuracy: 0.8804 - val_department_output_accuracy: 0.6168\n",
            "Epoch 3/50\n",
            "35/35 [==============================] - 0s 2ms/step - loss: 1.1379 - attrition_output_loss: 0.3846 - department_output_loss: 0.7533 - attrition_output_accuracy: 0.8485 - department_output_accuracy: 0.6661 - val_loss: 1.1620 - val_attrition_output_loss: 0.3169 - val_department_output_loss: 0.8450 - val_attrition_output_accuracy: 0.8832 - val_department_output_accuracy: 0.6168\n",
            "Epoch 4/50\n",
            "35/35 [==============================] - 0s 2ms/step - loss: 1.1154 - attrition_output_loss: 0.3697 - department_output_loss: 0.7457 - attrition_output_accuracy: 0.8503 - department_output_accuracy: 0.6652 - val_loss: 1.1707 - val_attrition_output_loss: 0.3137 - val_department_output_loss: 0.8570 - val_attrition_output_accuracy: 0.8832 - val_department_output_accuracy: 0.6168\n",
            "Epoch 5/50\n",
            "35/35 [==============================] - 0s 2ms/step - loss: 1.0989 - attrition_output_loss: 0.3572 - department_output_loss: 0.7418 - attrition_output_accuracy: 0.8621 - department_output_accuracy: 0.6633 - val_loss: 1.1683 - val_attrition_output_loss: 0.3162 - val_department_output_loss: 0.8521 - val_attrition_output_accuracy: 0.8804 - val_department_output_accuracy: 0.6060\n",
            "Epoch 6/50\n",
            "35/35 [==============================] - 0s 2ms/step - loss: 1.0851 - attrition_output_loss: 0.3495 - department_output_loss: 0.7356 - attrition_output_accuracy: 0.8639 - department_output_accuracy: 0.6697 - val_loss: 1.1759 - val_attrition_output_loss: 0.3135 - val_department_output_loss: 0.8624 - val_attrition_output_accuracy: 0.8804 - val_department_output_accuracy: 0.6141\n",
            "Epoch 7/50\n",
            "35/35 [==============================] - 0s 2ms/step - loss: 1.0744 - attrition_output_loss: 0.3392 - department_output_loss: 0.7352 - attrition_output_accuracy: 0.8621 - department_output_accuracy: 0.6679 - val_loss: 1.1902 - val_attrition_output_loss: 0.3238 - val_department_output_loss: 0.8664 - val_attrition_output_accuracy: 0.8777 - val_department_output_accuracy: 0.5951\n",
            "Epoch 8/50\n",
            "35/35 [==============================] - 0s 2ms/step - loss: 1.0615 - attrition_output_loss: 0.3341 - department_output_loss: 0.7274 - attrition_output_accuracy: 0.8711 - department_output_accuracy: 0.6751 - val_loss: 1.2020 - val_attrition_output_loss: 0.3368 - val_department_output_loss: 0.8652 - val_attrition_output_accuracy: 0.8777 - val_department_output_accuracy: 0.6168\n",
            "Epoch 9/50\n",
            "35/35 [==============================] - 0s 2ms/step - loss: 1.0483 - attrition_output_loss: 0.3248 - department_output_loss: 0.7235 - attrition_output_accuracy: 0.8739 - department_output_accuracy: 0.6779 - val_loss: 1.1763 - val_attrition_output_loss: 0.3139 - val_department_output_loss: 0.8623 - val_attrition_output_accuracy: 0.8859 - val_department_output_accuracy: 0.6033\n",
            "Epoch 10/50\n",
            "35/35 [==============================] - 0s 2ms/step - loss: 1.0372 - attrition_output_loss: 0.3199 - department_output_loss: 0.7173 - attrition_output_accuracy: 0.8793 - department_output_accuracy: 0.6715 - val_loss: 1.1879 - val_attrition_output_loss: 0.3256 - val_department_output_loss: 0.8623 - val_attrition_output_accuracy: 0.8804 - val_department_output_accuracy: 0.5897\n",
            "Epoch 11/50\n",
            "35/35 [==============================] - 0s 2ms/step - loss: 1.0242 - attrition_output_loss: 0.3153 - department_output_loss: 0.7089 - attrition_output_accuracy: 0.8721 - department_output_accuracy: 0.6815 - val_loss: 1.2164 - val_attrition_output_loss: 0.3288 - val_department_output_loss: 0.8876 - val_attrition_output_accuracy: 0.8804 - val_department_output_accuracy: 0.5951\n",
            "Epoch 12/50\n",
            "35/35 [==============================] - 0s 2ms/step - loss: 1.0070 - attrition_output_loss: 0.3014 - department_output_loss: 0.7056 - attrition_output_accuracy: 0.8829 - department_output_accuracy: 0.6815 - val_loss: 1.1969 - val_attrition_output_loss: 0.3253 - val_department_output_loss: 0.8716 - val_attrition_output_accuracy: 0.8886 - val_department_output_accuracy: 0.5951\n",
            "Epoch 13/50\n",
            "35/35 [==============================] - 0s 2ms/step - loss: 0.9931 - attrition_output_loss: 0.2959 - department_output_loss: 0.6972 - attrition_output_accuracy: 0.8857 - department_output_accuracy: 0.6851 - val_loss: 1.2129 - val_attrition_output_loss: 0.3337 - val_department_output_loss: 0.8792 - val_attrition_output_accuracy: 0.8777 - val_department_output_accuracy: 0.5815\n",
            "Epoch 14/50\n",
            "35/35 [==============================] - 0s 2ms/step - loss: 0.9794 - attrition_output_loss: 0.2920 - department_output_loss: 0.6874 - attrition_output_accuracy: 0.8784 - department_output_accuracy: 0.6906 - val_loss: 1.2437 - val_attrition_output_loss: 0.3622 - val_department_output_loss: 0.8815 - val_attrition_output_accuracy: 0.8560 - val_department_output_accuracy: 0.6005\n",
            "Epoch 15/50\n",
            "35/35 [==============================] - 0s 2ms/step - loss: 0.9628 - attrition_output_loss: 0.2842 - department_output_loss: 0.6786 - attrition_output_accuracy: 0.8857 - department_output_accuracy: 0.6924 - val_loss: 1.2438 - val_attrition_output_loss: 0.3471 - val_department_output_loss: 0.8967 - val_attrition_output_accuracy: 0.8777 - val_department_output_accuracy: 0.5489\n",
            "Epoch 16/50\n",
            "35/35 [==============================] - 0s 2ms/step - loss: 0.9479 - attrition_output_loss: 0.2765 - department_output_loss: 0.6714 - attrition_output_accuracy: 0.8993 - department_output_accuracy: 0.6978 - val_loss: 1.2586 - val_attrition_output_loss: 0.3721 - val_department_output_loss: 0.8865 - val_attrition_output_accuracy: 0.8560 - val_department_output_accuracy: 0.6033\n",
            "Epoch 17/50\n",
            "35/35 [==============================] - 0s 2ms/step - loss: 0.9311 - attrition_output_loss: 0.2656 - department_output_loss: 0.6655 - attrition_output_accuracy: 0.8938 - department_output_accuracy: 0.7015 - val_loss: 1.2791 - val_attrition_output_loss: 0.3530 - val_department_output_loss: 0.9261 - val_attrition_output_accuracy: 0.8750 - val_department_output_accuracy: 0.5679\n",
            "Epoch 18/50\n",
            "35/35 [==============================] - 0s 2ms/step - loss: 0.9166 - attrition_output_loss: 0.2610 - department_output_loss: 0.6556 - attrition_output_accuracy: 0.8975 - department_output_accuracy: 0.7087 - val_loss: 1.2662 - val_attrition_output_loss: 0.3657 - val_department_output_loss: 0.9005 - val_attrition_output_accuracy: 0.8641 - val_department_output_accuracy: 0.5707\n",
            "Epoch 19/50\n",
            "35/35 [==============================] - 0s 2ms/step - loss: 0.9099 - attrition_output_loss: 0.2632 - department_output_loss: 0.6467 - attrition_output_accuracy: 0.8866 - department_output_accuracy: 0.7114 - val_loss: 1.2889 - val_attrition_output_loss: 0.3659 - val_department_output_loss: 0.9230 - val_attrition_output_accuracy: 0.8668 - val_department_output_accuracy: 0.5435\n",
            "Epoch 20/50\n",
            "35/35 [==============================] - 0s 2ms/step - loss: 0.8846 - attrition_output_loss: 0.2450 - department_output_loss: 0.6397 - attrition_output_accuracy: 0.9038 - department_output_accuracy: 0.7196 - val_loss: 1.2725 - val_attrition_output_loss: 0.3738 - val_department_output_loss: 0.8987 - val_attrition_output_accuracy: 0.8587 - val_department_output_accuracy: 0.5571\n",
            "Epoch 21/50\n",
            "35/35 [==============================] - 0s 2ms/step - loss: 0.8631 - attrition_output_loss: 0.2405 - department_output_loss: 0.6226 - attrition_output_accuracy: 0.9120 - department_output_accuracy: 0.7278 - val_loss: 1.2905 - val_attrition_output_loss: 0.3661 - val_department_output_loss: 0.9244 - val_attrition_output_accuracy: 0.8696 - val_department_output_accuracy: 0.5516\n",
            "Epoch 22/50\n",
            "35/35 [==============================] - 0s 2ms/step - loss: 0.8537 - attrition_output_loss: 0.2370 - department_output_loss: 0.6167 - attrition_output_accuracy: 0.9011 - department_output_accuracy: 0.7368 - val_loss: 1.3147 - val_attrition_output_loss: 0.3873 - val_department_output_loss: 0.9274 - val_attrition_output_accuracy: 0.8478 - val_department_output_accuracy: 0.5516\n",
            "Epoch 23/50\n",
            "35/35 [==============================] - 0s 2ms/step - loss: 0.8304 - attrition_output_loss: 0.2239 - department_output_loss: 0.6065 - attrition_output_accuracy: 0.9174 - department_output_accuracy: 0.7423 - val_loss: 1.3502 - val_attrition_output_loss: 0.3966 - val_department_output_loss: 0.9536 - val_attrition_output_accuracy: 0.8505 - val_department_output_accuracy: 0.5543\n",
            "Epoch 24/50\n",
            "35/35 [==============================] - 0s 2ms/step - loss: 0.8030 - attrition_output_loss: 0.2197 - department_output_loss: 0.5833 - attrition_output_accuracy: 0.9129 - department_output_accuracy: 0.7559 - val_loss: 1.3972 - val_attrition_output_loss: 0.4049 - val_department_output_loss: 0.9923 - val_attrition_output_accuracy: 0.8560 - val_department_output_accuracy: 0.5326\n",
            "Epoch 25/50\n",
            "35/35 [==============================] - 0s 2ms/step - loss: 0.7969 - attrition_output_loss: 0.2132 - department_output_loss: 0.5837 - attrition_output_accuracy: 0.9129 - department_output_accuracy: 0.7586 - val_loss: 1.4100 - val_attrition_output_loss: 0.4068 - val_department_output_loss: 1.0032 - val_attrition_output_accuracy: 0.8478 - val_department_output_accuracy: 0.5380\n",
            "Epoch 26/50\n",
            "35/35 [==============================] - 0s 2ms/step - loss: 0.7736 - attrition_output_loss: 0.2030 - department_output_loss: 0.5706 - attrition_output_accuracy: 0.9174 - department_output_accuracy: 0.7550 - val_loss: 1.4012 - val_attrition_output_loss: 0.3991 - val_department_output_loss: 1.0021 - val_attrition_output_accuracy: 0.8587 - val_department_output_accuracy: 0.5598\n",
            "Epoch 27/50\n",
            "35/35 [==============================] - 0s 2ms/step - loss: 0.7527 - attrition_output_loss: 0.1938 - department_output_loss: 0.5589 - attrition_output_accuracy: 0.9292 - department_output_accuracy: 0.7559 - val_loss: 1.4763 - val_attrition_output_loss: 0.4617 - val_department_output_loss: 1.0145 - val_attrition_output_accuracy: 0.8342 - val_department_output_accuracy: 0.5245\n",
            "Epoch 28/50\n",
            "35/35 [==============================] - 0s 2ms/step - loss: 0.7398 - attrition_output_loss: 0.1914 - department_output_loss: 0.5484 - attrition_output_accuracy: 0.9274 - department_output_accuracy: 0.7632 - val_loss: 1.4534 - val_attrition_output_loss: 0.4305 - val_department_output_loss: 1.0229 - val_attrition_output_accuracy: 0.8668 - val_department_output_accuracy: 0.5217\n",
            "Epoch 29/50\n",
            "35/35 [==============================] - 0s 2ms/step - loss: 0.7227 - attrition_output_loss: 0.1812 - department_output_loss: 0.5415 - attrition_output_accuracy: 0.9365 - department_output_accuracy: 0.7704 - val_loss: 1.4292 - val_attrition_output_loss: 0.4266 - val_department_output_loss: 1.0026 - val_attrition_output_accuracy: 0.8560 - val_department_output_accuracy: 0.5598\n",
            "Epoch 30/50\n",
            "35/35 [==============================] - 0s 2ms/step - loss: 0.7018 - attrition_output_loss: 0.1784 - department_output_loss: 0.5234 - attrition_output_accuracy: 0.9310 - department_output_accuracy: 0.7804 - val_loss: 1.5418 - val_attrition_output_loss: 0.4496 - val_department_output_loss: 1.0922 - val_attrition_output_accuracy: 0.8641 - val_department_output_accuracy: 0.5136\n",
            "Epoch 31/50\n",
            "35/35 [==============================] - 0s 2ms/step - loss: 0.6987 - attrition_output_loss: 0.1760 - department_output_loss: 0.5227 - attrition_output_accuracy: 0.9419 - department_output_accuracy: 0.7759 - val_loss: 1.5576 - val_attrition_output_loss: 0.4848 - val_department_output_loss: 1.0728 - val_attrition_output_accuracy: 0.8288 - val_department_output_accuracy: 0.5109\n",
            "Epoch 32/50\n",
            "35/35 [==============================] - 0s 2ms/step - loss: 0.6650 - attrition_output_loss: 0.1682 - department_output_loss: 0.4968 - attrition_output_accuracy: 0.9383 - department_output_accuracy: 0.8113 - val_loss: 1.5925 - val_attrition_output_loss: 0.4821 - val_department_output_loss: 1.1104 - val_attrition_output_accuracy: 0.8424 - val_department_output_accuracy: 0.5462\n",
            "Epoch 33/50\n",
            "35/35 [==============================] - 0s 3ms/step - loss: 0.6478 - attrition_output_loss: 0.1603 - department_output_loss: 0.4875 - attrition_output_accuracy: 0.9474 - department_output_accuracy: 0.8013 - val_loss: 1.6149 - val_attrition_output_loss: 0.4827 - val_department_output_loss: 1.1322 - val_attrition_output_accuracy: 0.8478 - val_department_output_accuracy: 0.5190\n",
            "Epoch 34/50\n",
            "35/35 [==============================] - 0s 2ms/step - loss: 0.6535 - attrition_output_loss: 0.1575 - department_output_loss: 0.4960 - attrition_output_accuracy: 0.9428 - department_output_accuracy: 0.8094 - val_loss: 1.6512 - val_attrition_output_loss: 0.5139 - val_department_output_loss: 1.1372 - val_attrition_output_accuracy: 0.8478 - val_department_output_accuracy: 0.5136\n",
            "Epoch 35/50\n",
            "35/35 [==============================] - 0s 2ms/step - loss: 0.6250 - attrition_output_loss: 0.1610 - department_output_loss: 0.4640 - attrition_output_accuracy: 0.9419 - department_output_accuracy: 0.8185 - val_loss: 1.5825 - val_attrition_output_loss: 0.4811 - val_department_output_loss: 1.1014 - val_attrition_output_accuracy: 0.8641 - val_department_output_accuracy: 0.5163\n",
            "Epoch 36/50\n",
            "35/35 [==============================] - 0s 2ms/step - loss: 0.6027 - attrition_output_loss: 0.1479 - department_output_loss: 0.4548 - attrition_output_accuracy: 0.9492 - department_output_accuracy: 0.8240 - val_loss: 1.7187 - val_attrition_output_loss: 0.5223 - val_department_output_loss: 1.1964 - val_attrition_output_accuracy: 0.8505 - val_department_output_accuracy: 0.5380\n",
            "Epoch 37/50\n",
            "35/35 [==============================] - 0s 4ms/step - loss: 0.5863 - attrition_output_loss: 0.1427 - department_output_loss: 0.4436 - attrition_output_accuracy: 0.9474 - department_output_accuracy: 0.8276 - val_loss: 1.7206 - val_attrition_output_loss: 0.5400 - val_department_output_loss: 1.1805 - val_attrition_output_accuracy: 0.8451 - val_department_output_accuracy: 0.5272\n",
            "Epoch 38/50\n",
            "35/35 [==============================] - 0s 2ms/step - loss: 0.5626 - attrition_output_loss: 0.1382 - department_output_loss: 0.4244 - attrition_output_accuracy: 0.9537 - department_output_accuracy: 0.8358 - val_loss: 1.7531 - val_attrition_output_loss: 0.5412 - val_department_output_loss: 1.2118 - val_attrition_output_accuracy: 0.8560 - val_department_output_accuracy: 0.5353\n",
            "Epoch 39/50\n",
            "35/35 [==============================] - 0s 2ms/step - loss: 0.5431 - attrition_output_loss: 0.1282 - department_output_loss: 0.4148 - attrition_output_accuracy: 0.9528 - department_output_accuracy: 0.8385 - val_loss: 1.7763 - val_attrition_output_loss: 0.5484 - val_department_output_loss: 1.2279 - val_attrition_output_accuracy: 0.8560 - val_department_output_accuracy: 0.5000\n",
            "Epoch 40/50\n",
            "35/35 [==============================] - 0s 2ms/step - loss: 0.5402 - attrition_output_loss: 0.1349 - department_output_loss: 0.4053 - attrition_output_accuracy: 0.9510 - department_output_accuracy: 0.8457 - val_loss: 1.8367 - val_attrition_output_loss: 0.5519 - val_department_output_loss: 1.2848 - val_attrition_output_accuracy: 0.8505 - val_department_output_accuracy: 0.5082\n",
            "Epoch 41/50\n",
            "35/35 [==============================] - 0s 2ms/step - loss: 0.5069 - attrition_output_loss: 0.1140 - department_output_loss: 0.3929 - attrition_output_accuracy: 0.9628 - department_output_accuracy: 0.8566 - val_loss: 1.9081 - val_attrition_output_loss: 0.5756 - val_department_output_loss: 1.3324 - val_attrition_output_accuracy: 0.8505 - val_department_output_accuracy: 0.4973\n",
            "Epoch 42/50\n",
            "35/35 [==============================] - 0s 2ms/step - loss: 0.5023 - attrition_output_loss: 0.1204 - department_output_loss: 0.3819 - attrition_output_accuracy: 0.9601 - department_output_accuracy: 0.8566 - val_loss: 1.8671 - val_attrition_output_loss: 0.5873 - val_department_output_loss: 1.2798 - val_attrition_output_accuracy: 0.8315 - val_department_output_accuracy: 0.5217\n",
            "Epoch 43/50\n",
            "35/35 [==============================] - 0s 2ms/step - loss: 0.4907 - attrition_output_loss: 0.1175 - department_output_loss: 0.3732 - attrition_output_accuracy: 0.9610 - department_output_accuracy: 0.8648 - val_loss: 1.8525 - val_attrition_output_loss: 0.5681 - val_department_output_loss: 1.2843 - val_attrition_output_accuracy: 0.8533 - val_department_output_accuracy: 0.5353\n",
            "Epoch 44/50\n",
            "35/35 [==============================] - 0s 2ms/step - loss: 0.4725 - attrition_output_loss: 0.1047 - department_output_loss: 0.3678 - attrition_output_accuracy: 0.9646 - department_output_accuracy: 0.8639 - val_loss: 2.0105 - val_attrition_output_loss: 0.5863 - val_department_output_loss: 1.4242 - val_attrition_output_accuracy: 0.8478 - val_department_output_accuracy: 0.5272\n",
            "Epoch 45/50\n",
            "35/35 [==============================] - 0s 2ms/step - loss: 0.4576 - attrition_output_loss: 0.1045 - department_output_loss: 0.3531 - attrition_output_accuracy: 0.9646 - department_output_accuracy: 0.8721 - val_loss: 1.9831 - val_attrition_output_loss: 0.6201 - val_department_output_loss: 1.3630 - val_attrition_output_accuracy: 0.8424 - val_department_output_accuracy: 0.5190\n",
            "Epoch 46/50\n",
            "35/35 [==============================] - 0s 2ms/step - loss: 0.4444 - attrition_output_loss: 0.1031 - department_output_loss: 0.3413 - attrition_output_accuracy: 0.9673 - department_output_accuracy: 0.8730 - val_loss: 1.9872 - val_attrition_output_loss: 0.6213 - val_department_output_loss: 1.3660 - val_attrition_output_accuracy: 0.8451 - val_department_output_accuracy: 0.5489\n",
            "Epoch 47/50\n",
            "35/35 [==============================] - 0s 2ms/step - loss: 0.4352 - attrition_output_loss: 0.0961 - department_output_loss: 0.3391 - attrition_output_accuracy: 0.9673 - department_output_accuracy: 0.8675 - val_loss: 2.0101 - val_attrition_output_loss: 0.6221 - val_department_output_loss: 1.3880 - val_attrition_output_accuracy: 0.8560 - val_department_output_accuracy: 0.4946\n",
            "Epoch 48/50\n",
            "35/35 [==============================] - 0s 2ms/step - loss: 0.4005 - attrition_output_loss: 0.0843 - department_output_loss: 0.3161 - attrition_output_accuracy: 0.9773 - department_output_accuracy: 0.8966 - val_loss: 2.1916 - val_attrition_output_loss: 0.6602 - val_department_output_loss: 1.5314 - val_attrition_output_accuracy: 0.8451 - val_department_output_accuracy: 0.5217\n",
            "Epoch 49/50\n",
            "35/35 [==============================] - 0s 2ms/step - loss: 0.3920 - attrition_output_loss: 0.0849 - department_output_loss: 0.3072 - attrition_output_accuracy: 0.9782 - department_output_accuracy: 0.8902 - val_loss: 2.1101 - val_attrition_output_loss: 0.6645 - val_department_output_loss: 1.4456 - val_attrition_output_accuracy: 0.8288 - val_department_output_accuracy: 0.4946\n",
            "Epoch 50/50\n",
            "35/35 [==============================] - 0s 2ms/step - loss: 0.3817 - attrition_output_loss: 0.0847 - department_output_loss: 0.2970 - attrition_output_accuracy: 0.9719 - department_output_accuracy: 0.9029 - val_loss: 2.0909 - val_attrition_output_loss: 0.6810 - val_department_output_loss: 1.4099 - val_attrition_output_accuracy: 0.8478 - val_department_output_accuracy: 0.5245\n"
          ]
        }
      ],
      "source": [
        "history = model.fit(\n",
        "    x=X_train_scaled,  # Scaled feature data\n",
        "    y={\n",
        "        'attrition_output': attrition_train_encoded,  # One-hot encoded targets for attrition\n",
        "        'department_output': department_train_encoded  # One-hot encoded targets for department\n",
        "    },\n",
        "    validation_data=(X_test_scaled, {\n",
        "        'attrition_output': attrition_test_encoded,  # One-hot encoded validation targets for attrition\n",
        "        'department_output': department_test_encoded  # One-hot encoded validation targets for department\n",
        "    }),\n",
        "    epochs=50,  # Number of training epochs\n",
        "    batch_size=32,  # Size of each batch of data\n",
        "    verbose=1  # Verbosity mode: 1 for progress bar\n",
        ")\n",
        "\n"
      ]
    },
    {
      "cell_type": "code",
      "execution_count": 16,
      "metadata": {
        "colab": {
          "base_uri": "https://localhost:8080/"
        },
        "id": "VsMoaQlgGc3U",
        "outputId": "1bd4e601-e964-4abc-ad83-aeecf6b696be"
      },
      "outputs": [
        {
          "name": "stdout",
          "output_type": "stream",
          "text": [
            "12/12 [==============================] - 0s 1ms/step - loss: 2.0909 - attrition_output_loss: 0.6810 - department_output_loss: 1.4099 - attrition_output_accuracy: 0.8478 - department_output_accuracy: 0.5245\n",
            "Test results - Loss: 2.0908772945404053 - Attrition Accuracy: 0.6809520125389099 - Department Accuracy: 1.4099253416061401\n"
          ]
        }
      ],
      "source": [
        "# Evaluate the model with the testing data\n",
        "test_results = model.evaluate(\n",
        "    x=X_test_scaled,\n",
        "    y={\n",
        "        'attrition_output': attrition_test_encoded,\n",
        "        'department_output': department_test_encoded\n",
        "    },\n",
        "    verbose=1  # Show progress\n",
        ")\n",
        "\n",
        "print(f\"Test results - Loss: {test_results[0]} - Attrition Accuracy: {test_results[1]} - Department Accuracy: {test_results[2]}\")\n",
        "\n"
      ]
    },
    {
      "cell_type": "code",
      "execution_count": 17,
      "metadata": {
        "colab": {
          "base_uri": "https://localhost:8080/"
        },
        "id": "ZlCtlHi0Vt54",
        "outputId": "bc21ef3e-80c2-4b38-9c29-79515bc23dec"
      },
      "outputs": [
        {
          "name": "stdout",
          "output_type": "stream",
          "text": [
            "Attrition Accuracy: 84.78%\n",
            "Department Accuracy: 52.45%\n"
          ]
        }
      ],
      "source": [
        "# Print the accuracy for both department and attrition\n",
        "# Print the accuracies for both outputs\n",
        "print(f\"Attrition Accuracy: {test_results[3]*100:.2f}%\")\n",
        "print(f\"Department Accuracy: {test_results[4]*100:.2f}%\")\n"
      ]
    },
    {
      "cell_type": "markdown",
      "metadata": {
        "id": "eGSyfsZfWOQM"
      },
      "source": [
        "# Summary\n",
        "\n",
        "In the provided space below, briefly answer the following questions.\n",
        "\n",
        "1. Is accuracy the best metric to use on this data? Why or why not?\n",
        "\n",
        "2. What activation functions did you choose for your output layers, and why?\n",
        "\n",
        "3. Can you name a few ways that this model might be improved?"
      ]
    },
    {
      "cell_type": "markdown",
      "metadata": {
        "id": "pi9SLpFnWvbF"
      },
      "source": [
        "YOUR ANSWERS HERE\n",
        "\n",
        "1. Accuracy may not always be the best metric for evaluating models on this data, particularly if there's class imbalance, as it could lead to misleading high scores by favoring the majority class. Metrics like precision, recall, F1-score, or ROC-AUC are more informative for assessing model performance in such scenarios, as they consider the balance between different types of classification errors and class distributions.\n",
        "2. I used the softmax activation function for the output layers of both the 'Attrition' and 'Department' predictions because it is ideal for multi-class classification problems, providing a probability distribution across the possible categories. This function helps in predicting the likelihood of each category, making it suitable for both binary (one-hot encoded) and multi-class outputs in the neural network.\n",
        "3. To improve the model, consider using techniques like cross-validation for more robust training, incorporating dropout layers to reduce overfitting, and experimenting with different architectures or hyperparameters. Additionally, gathering more data or employing advanced feature engineering techniques, such as interaction terms or embedding layers for categorical variables, might enhance predictive performance."
      ]
    },
    {
      "cell_type": "markdown",
      "metadata": {},
      "source": []
    }
  ],
  "metadata": {
    "colab": {
      "provenance": []
    },
    "kernelspec": {
      "display_name": "Python 3",
      "language": "python",
      "name": "python3"
    },
    "language_info": {
      "codemirror_mode": {
        "name": "ipython",
        "version": 3
      },
      "file_extension": ".py",
      "mimetype": "text/x-python",
      "name": "python",
      "nbconvert_exporter": "python",
      "pygments_lexer": "ipython3",
      "version": "3.11.7"
    },
    "vscode": {
      "interpreter": {
        "hash": "31f2aee4e71d21fbe5cf8b01ff0e069b9275f58929596ceb00d14d90e3e16cd6"
      }
    }
  },
  "nbformat": 4,
  "nbformat_minor": 0
}
